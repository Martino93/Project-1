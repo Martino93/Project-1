{
 "cells": [
  {
   "cell_type": "code",
   "execution_count": 2,
   "metadata": {
    "colab": {},
    "colab_type": "code",
    "id": "tN2VL1zmlo4I"
   },
   "outputs": [],
   "source": [
    "#dependencies\n",
    "import pandas as pd\n",
    "from matplotlib import pyplot as plt\n",
    "import glob\n",
    "import os\n",
    "\n",
    "from sklearn import linear_model\n",
    "import scipy.stats as stats\n",
    "import seaborn as sns\n",
    "import plotly.express as px\n",
    "\n",
    "from sklearn.model_selection import train_test_split \n",
    "from sklearn.linear_model import LinearRegression\n",
    "from sklearn import metrics"
   ]
  },
  {
   "cell_type": "code",
   "execution_count": 2,
   "metadata": {
    "colab": {
     "base_uri": "https://localhost:8080/",
     "height": 72
    },
    "colab_type": "code",
    "executionInfo": {
     "elapsed": 4102,
     "status": "ok",
     "timestamp": 1564699262085,
     "user": {
      "displayName": "Andrew Morrison",
      "photoUrl": "https://lh4.googleusercontent.com/-_lkTUhg-8SQ/AAAAAAAAAAI/AAAAAAAAABg/y-T98PhrCvg/s64/photo.jpg",
      "userId": "11988037290830881799"
     },
     "user_tz": 420
    },
    "id": "tBJYp0GaUDzi",
    "outputId": "52295d8f-2b0a-48ec-ac75-143de9f97728"
   },
   "outputs": [],
   "source": [
    "#!pip install plotly==4.0.0"
   ]
  },
  {
   "cell_type": "code",
   "execution_count": null,
   "metadata": {
    "colab": {
     "base_uri": "https://localhost:8080/",
     "height": 129
    },
    "colab_type": "code",
    "executionInfo": {
     "elapsed": 25956,
     "status": "ok",
     "timestamp": 1564690113715,
     "user": {
      "displayName": "Andrew Morrison",
      "photoUrl": "https://lh4.googleusercontent.com/-_lkTUhg-8SQ/AAAAAAAAAAI/AAAAAAAAABg/y-T98PhrCvg/s64/photo.jpg",
      "userId": "11988037290830881799"
     },
     "user_tz": 420
    },
    "id": "8ZMK7gLDltVI",
    "outputId": "58cf605c-5234-401b-bd93-05bb10a9090c"
   },
   "outputs": [],
   "source": [
    "#google import\n",
    "from google.colab import drive\n",
    "drive.mount('/content/drive')"
   ]
  },
  {
   "cell_type": "code",
   "execution_count": 5,
   "metadata": {
    "colab": {},
    "colab_type": "code",
    "id": "9dwLsUjMmFu9"
   },
   "outputs": [],
   "source": [
    "#google file\n",
    "#csv_all = [i for i in glob.glob('drive/My Drive/Project_1/Resources/*.csv')]\n",
    "\n",
    "#csv files\n",
    "csv_all = [i for i in glob.glob('Resources/*.csv')]\n",
    "csv_all.sort()"
   ]
  },
  {
   "cell_type": "code",
   "execution_count": 6,
   "metadata": {
    "colab": {
     "base_uri": "https://localhost:8080/",
     "height": 998
    },
    "colab_type": "code",
    "executionInfo": {
     "elapsed": 84675,
     "status": "ok",
     "timestamp": 1564699375617,
     "user": {
      "displayName": "Andrew Morrison",
      "photoUrl": "https://lh4.googleusercontent.com/-_lkTUhg-8SQ/AAAAAAAAAAI/AAAAAAAAABg/y-T98PhrCvg/s64/photo.jpg",
      "userId": "11988037290830881799"
     },
     "user_tz": 420
    },
    "id": "1vUYq3j-mkGB",
    "outputId": "3cc89c33-4bba-4e95-9246-ae01297991f6"
   },
   "outputs": [
    {
     "name": "stderr",
     "output_type": "stream",
     "text": [
      "/Users/andrew/anaconda3/lib/python3.7/site-packages/IPython/core/interactiveshell.py:3248: DtypeWarning:\n",
      "\n",
      "Columns (1) have mixed types. Specify dtype option on import or set low_memory=False.\n",
      "\n",
      "/Users/andrew/anaconda3/lib/python3.7/site-packages/IPython/core/interactiveshell.py:3248: DtypeWarning:\n",
      "\n",
      "Columns (1,6,442,451,598,607,611,620,624,633,789,802,806,815,971,984,997,1153,1166,1407,1408,1411,1424,1425,1426,1431,1432,1433,1437,1438,1439,1440,1445,1446,1447,1451,1452,1453,1454,1459,1460,1461,1465,1466,1467,1468,1473,1474,1475,1479,1480,1481,1482,1487,1488,1489,1501,1502,1537,1538,1539,1540,1541,1542,1606,1609,1610,1611,1613,1614,1615,1616,1688,1689,1690,1691,1692,1908,1909,1910,1911,1912,1913) have mixed types. Specify dtype option on import or set low_memory=False.\n",
      "\n",
      "/Users/andrew/anaconda3/lib/python3.7/site-packages/IPython/core/interactiveshell.py:3248: DtypeWarning:\n",
      "\n",
      "Columns (1,1909,1910,1911,1912,1913) have mixed types. Specify dtype option on import or set low_memory=False.\n",
      "\n",
      "/Users/andrew/anaconda3/lib/python3.7/site-packages/IPython/core/interactiveshell.py:3248: DtypeWarning:\n",
      "\n",
      "Columns (1,1408,1431,1432,1433,1489,1537,1538,1539,1540,1542,1606,1610,1611,1614,1615,1616,1729) have mixed types. Specify dtype option on import or set low_memory=False.\n",
      "\n",
      "/Users/andrew/anaconda3/lib/python3.7/site-packages/IPython/core/interactiveshell.py:3248: DtypeWarning:\n",
      "\n",
      "Columns (1,1447,1537,1540,1542,1606,1614,1615) have mixed types. Specify dtype option on import or set low_memory=False.\n",
      "\n",
      "/Users/andrew/anaconda3/lib/python3.7/site-packages/IPython/core/interactiveshell.py:3248: DtypeWarning:\n",
      "\n",
      "Columns (1,1537,1540,1542,1606,1614,1615) have mixed types. Specify dtype option on import or set low_memory=False.\n",
      "\n",
      "/Users/andrew/anaconda3/lib/python3.7/site-packages/IPython/core/interactiveshell.py:3248: DtypeWarning:\n",
      "\n",
      "Columns (1,6,1461,1561,1729,1909,1910,1911,1912,1913) have mixed types. Specify dtype option on import or set low_memory=False.\n",
      "\n",
      "/Users/andrew/anaconda3/lib/python3.7/site-packages/IPython/core/interactiveshell.py:3248: DtypeWarning:\n",
      "\n",
      "Columns (1537,1540,1542,1575,1606,1614,1615,1729,1909,1910,1911,1912,1913) have mixed types. Specify dtype option on import or set low_memory=False.\n",
      "\n",
      "/Users/andrew/anaconda3/lib/python3.7/site-packages/IPython/core/interactiveshell.py:3248: DtypeWarning:\n",
      "\n",
      "Columns (1537,1540,1542,1547,1548,1549,1561,1575,1606,1614,1615,1729,1909,1910,1911,1912,1913) have mixed types. Specify dtype option on import or set low_memory=False.\n",
      "\n",
      "/Users/andrew/anaconda3/lib/python3.7/site-packages/IPython/core/interactiveshell.py:3248: DtypeWarning:\n",
      "\n",
      "Columns (6,1169,1170,1171,1172,1173,1174,1175,1177,1178,1179,1180,1183,1184,1185,1186,1187,1188,1196,1199,1200,1209,1212,1213,1222,1223,1224,1225,1226,1227,1235,1236,1237,1238,1239,1240,1248,1251,1252,1253,1255,1257,1261,1264,1265,1266,1268,1270,1274,1275,1276,1277,1278,1279,1281,1287,1288,1289,1290,1291,1292,1294,1303,1304,1316,1317,1326,1327,1328,1329,1330,1331,1335,1339,1340,1341,1342,1343,1344,1348,1379,1380,1381,1382,1383,1384,1385,1386,1387,1388,1389,1390,1391,1392,1393,1394,1395,1396,1397,1398,1399,1400,1401,1402,1403,1404,1405,1406,1407,1411,1426,1427,1475,1476,1479,1480,1483,1484,1487,1488,1489,1490,1491,1492,1493,1494,1495,1496,1497,1498,1499,1500,1501,1502,1503,1517,1529,1530,1532,1537,1540,1541,1542,1575,1576,1577,1578,1579,1580,1581,1582,1583,1584,1585,1586,1587,1588,1589,1590,1591,1592,1593,1594,1595,1596,1597,1598,1599,1600,1601,1602,1606,1609,1610,1613,1614,1615,1708,1729,1909,1910,1911,1912,1913) have mixed types. Specify dtype option on import or set low_memory=False.\n",
      "\n",
      "/Users/andrew/anaconda3/lib/python3.7/site-packages/IPython/core/interactiveshell.py:3248: DtypeWarning:\n",
      "\n",
      "Columns (6,1729,1909,1910,1911,1912,1913) have mixed types. Specify dtype option on import or set low_memory=False.\n",
      "\n",
      "/Users/andrew/anaconda3/lib/python3.7/site-packages/IPython/core/interactiveshell.py:3248: DtypeWarning:\n",
      "\n",
      "Columns (6,1379,1380,1381,1382,1383,1384,1385,1386,1387,1388,1389,1390,1391,1392,1393,1394,1395,1396,1397,1398,1399,1400,1401,1402,1403,1404,1405,1406,1407,1408,1431,1432,1503,1504,1517,1518,1519,1529,1530,1531,1532,1534,1535,1537,1538,1539,1540,1542,1575,1576,1577,1578,1579,1580,1581,1582,1583,1584,1585,1586,1587,1588,1589,1590,1591,1592,1593,1594,1595,1596,1597,1598,1599,1600,1601,1602,1606,1610,1611,1614,1615,1616,1708,1729,1909,1910,1911,1912,1913) have mixed types. Specify dtype option on import or set low_memory=False.\n",
      "\n",
      "/Users/andrew/anaconda3/lib/python3.7/site-packages/IPython/core/interactiveshell.py:3248: DtypeWarning:\n",
      "\n",
      "Columns (6,9,31,1725,1726,1727,1728,1729,1743,1815,1816,1817,1818,1823,1824,1830,1831,1879,1880,1881,1882,1883,1884,1885,1886,1887,1888,1889,1890,1891,1892,1893,1894,1895,1896,1897,1898,1909,1910,1911,1912,1913,1957,1958,1959,1960,1961,1962,1963,1964,1965,1966,1967,1968,1969,1970,1971,1972,1973,1974,1975,1976) have mixed types. Specify dtype option on import or set low_memory=False.\n",
      "\n"
     ]
    }
   ],
   "source": [
    "#read csv list\n",
    "csv_listread = [pd.read_csv(x) for x in csv_all]"
   ]
  },
  {
   "cell_type": "code",
   "execution_count": 7,
   "metadata": {},
   "outputs": [
    {
     "data": {
      "text/plain": [
       "['Resources/MERGED1996_97_PP.csv',\n",
       " 'Resources/MERGED1997_98_PP.csv',\n",
       " 'Resources/MERGED1998_99_PP.csv',\n",
       " 'Resources/MERGED1999_00_PP.csv',\n",
       " 'Resources/MERGED2000_01_PP.csv',\n",
       " 'Resources/MERGED2001_02_PP.csv',\n",
       " 'Resources/MERGED2002_03_PP.csv',\n",
       " 'Resources/MERGED2003_04_PP.csv',\n",
       " 'Resources/MERGED2004_05_PP.csv',\n",
       " 'Resources/MERGED2005_06_PP.csv',\n",
       " 'Resources/MERGED2006_07_PP.csv',\n",
       " 'Resources/MERGED2007_08_PP.csv',\n",
       " 'Resources/MERGED2008_09_PP.csv',\n",
       " 'Resources/MERGED2009_10_PP.csv',\n",
       " 'Resources/MERGED2010_11_PP.csv',\n",
       " 'Resources/MERGED2011_12_PP.csv',\n",
       " 'Resources/MERGED2012_13_PP.csv',\n",
       " 'Resources/MERGED2013_14_PP.csv',\n",
       " 'Resources/MERGED2014_15_PP.csv',\n",
       " 'Resources/MERGED2015_16_PP.csv',\n",
       " 'Resources/MERGED2016_17_PP.csv',\n",
       " 'Resources/MERGED2017_18_PP.csv']"
      ]
     },
     "execution_count": 7,
     "metadata": {},
     "output_type": "execute_result"
    }
   ],
   "source": [
    "#check list\n",
    "csv_all"
   ]
  },
  {
   "cell_type": "code",
   "execution_count": 8,
   "metadata": {
    "colab": {},
    "colab_type": "code",
    "id": "EC6tsIXCnCGX"
   },
   "outputs": [],
   "source": [
    "#df list\n",
    "df_list = [pd.DataFrame(f) for f in csv_listread]"
   ]
  },
  {
   "cell_type": "code",
   "execution_count": 9,
   "metadata": {
    "colab": {
     "base_uri": "https://localhost:8080/",
     "height": 424
    },
    "colab_type": "code",
    "executionInfo": {
     "elapsed": 1007,
     "status": "ok",
     "timestamp": 1564700244520,
     "user": {
      "displayName": "Andrew Morrison",
      "photoUrl": "https://lh4.googleusercontent.com/-_lkTUhg-8SQ/AAAAAAAAAAI/AAAAAAAAABg/y-T98PhrCvg/s64/photo.jpg",
      "userId": "11988037290830881799"
     },
     "user_tz": 420
    },
    "id": "uheLTpUR1Ghv",
    "outputId": "464a58b1-2528-4da9-da67-2dd31ee314b8"
   },
   "outputs": [
    {
     "data": {
      "text/plain": [
       "['97',\n",
       " '98',\n",
       " '99',\n",
       " '00',\n",
       " '01',\n",
       " '02',\n",
       " '03',\n",
       " '04',\n",
       " '05',\n",
       " '06',\n",
       " '07',\n",
       " '08',\n",
       " '09',\n",
       " '10',\n",
       " '11',\n",
       " '12',\n",
       " '13',\n",
       " '14',\n",
       " '15',\n",
       " '16',\n",
       " '17',\n",
       " '18']"
      ]
     },
     "execution_count": 9,
     "metadata": {},
     "output_type": "execute_result"
    }
   ],
   "source": [
    "#years for keys\n",
    "yearlist = [x.split('_') for x in csv_all]\n",
    "yearlist = [x[1] for x in yearlist]\n",
    "yearlist"
   ]
  },
  {
   "cell_type": "code",
   "execution_count": 10,
   "metadata": {
    "colab": {},
    "colab_type": "code",
    "id": "8tQEA6bAolOd"
   },
   "outputs": [],
   "source": [
    "#concatenate dfs\n",
    "df = pd.concat(df_list, keys=yearlist)"
   ]
  },
  {
   "cell_type": "code",
   "execution_count": 11,
   "metadata": {
    "colab": {
     "base_uri": "https://localhost:8080/",
     "height": 364
    },
    "colab_type": "code",
    "executionInfo": {
     "elapsed": 926,
     "status": "error",
     "timestamp": 1564692194616,
     "user": {
      "displayName": "Andrew Morrison",
      "photoUrl": "https://lh4.googleusercontent.com/-_lkTUhg-8SQ/AAAAAAAAAAI/AAAAAAAAABg/y-T98PhrCvg/s64/photo.jpg",
      "userId": "11988037290830881799"
     },
     "user_tz": 420
    },
    "id": "N5gH2sLKlo4d",
    "outputId": "b2a6ab6d-ef90-4d9c-ddf8-4a05216b263b"
   },
   "outputs": [],
   "source": [
    "cols = ['AVGFACSAL',\n",
    "       'ADM_RATE',\n",
    "       'CDR3',\n",
    "       'SAT_AVG_ALL',\n",
    "       'COSTT4_A',\n",
    "       'C150_4',\n",
    "       'HBCU',\n",
    "       'PBI',\n",
    "       'ANNHI',\n",
    "       'NANTI',\n",
    "       'TRIBAL',\n",
    "       'AANAPII',\n",
    "       'UGDS',\n",
    "       'PREDDEG',\n",
    "       'UGDS_WHITE',\n",
    "       'UGDS_BLACK',\n",
    "       'UGDS_HISP',\n",
    "       'UGDS_ASIAN',\n",
    "       'UGDS_AIAN',\n",
    "       'UGDS_NHPI',\n",
    "       'UGDS_2MOR',\n",
    "       'UGDS_UNKN',\n",
    "       'UGDS_NRA',\n",
    "       'TUITIONFEE_IN',\n",
    "       'TUITIONFEE_OUT']"
   ]
  },
  {
   "cell_type": "code",
   "execution_count": 138,
   "metadata": {
    "colab": {
     "base_uri": "https://localhost:8080/",
     "height": 1000
    },
    "colab_type": "code",
    "executionInfo": {
     "elapsed": 869,
     "status": "ok",
     "timestamp": 1564700944975,
     "user": {
      "displayName": "Andrew Morrison",
      "photoUrl": "https://lh4.googleusercontent.com/-_lkTUhg-8SQ/AAAAAAAAAAI/AAAAAAAAABg/y-T98PhrCvg/s64/photo.jpg",
      "userId": "11988037290830881799"
     },
     "user_tz": 420
    },
    "id": "Mg3paao8aObr",
    "outputId": "5b02f013-c241-40fb-bb9b-050aabf4e387"
   },
   "outputs": [
    {
     "data": {
      "text/html": [
       "<div>\n",
       "<style scoped>\n",
       "    .dataframe tbody tr th:only-of-type {\n",
       "        vertical-align: middle;\n",
       "    }\n",
       "\n",
       "    .dataframe tbody tr th {\n",
       "        vertical-align: top;\n",
       "    }\n",
       "\n",
       "    .dataframe thead th {\n",
       "        text-align: right;\n",
       "    }\n",
       "</style>\n",
       "<table border=\"1\" class=\"dataframe\">\n",
       "  <thead>\n",
       "    <tr style=\"text-align: right;\">\n",
       "      <th></th>\n",
       "      <th>AVGFACSAL</th>\n",
       "      <th>UGDS_BLACK</th>\n",
       "      <th>CDR3</th>\n",
       "      <th>SAT_AVG_ALL</th>\n",
       "      <th>COSTT4_A</th>\n",
       "      <th>REGION</th>\n",
       "      <th>HBCU</th>\n",
       "      <th>PBI</th>\n",
       "      <th>ANNHI</th>\n",
       "      <th>NANTI</th>\n",
       "      <th>TRIBAL</th>\n",
       "      <th>AANAPII</th>\n",
       "    </tr>\n",
       "  </thead>\n",
       "  <tbody>\n",
       "    <tr>\n",
       "      <th>count</th>\n",
       "      <td>88298.000000</td>\n",
       "      <td>67772.000000</td>\n",
       "      <td>47815.000000</td>\n",
       "      <td>25780.000000</td>\n",
       "      <td>35682.000000</td>\n",
       "      <td>154227.000000</td>\n",
       "      <td>6558.000000</td>\n",
       "      <td>6558.000000</td>\n",
       "      <td>6558.000000</td>\n",
       "      <td>6558.000000</td>\n",
       "      <td>6558.000000</td>\n",
       "      <td>6558.000000</td>\n",
       "    </tr>\n",
       "    <tr>\n",
       "      <th>mean</th>\n",
       "      <td>5486.713561</td>\n",
       "      <td>0.162723</td>\n",
       "      <td>0.126643</td>\n",
       "      <td>1061.895423</td>\n",
       "      <td>24101.837425</td>\n",
       "      <td>4.552030</td>\n",
       "      <td>0.015401</td>\n",
       "      <td>0.015401</td>\n",
       "      <td>0.004422</td>\n",
       "      <td>0.004270</td>\n",
       "      <td>0.005185</td>\n",
       "      <td>0.020281</td>\n",
       "    </tr>\n",
       "    <tr>\n",
       "      <th>std</th>\n",
       "      <td>2079.970791</td>\n",
       "      <td>0.217197</td>\n",
       "      <td>0.089612</td>\n",
       "      <td>127.754534</td>\n",
       "      <td>12674.271091</td>\n",
       "      <td>2.184821</td>\n",
       "      <td>0.123151</td>\n",
       "      <td>0.123151</td>\n",
       "      <td>0.066357</td>\n",
       "      <td>0.065207</td>\n",
       "      <td>0.071822</td>\n",
       "      <td>0.140969</td>\n",
       "    </tr>\n",
       "    <tr>\n",
       "      <th>min</th>\n",
       "      <td>27.000000</td>\n",
       "      <td>0.000000</td>\n",
       "      <td>0.000000</td>\n",
       "      <td>514.000000</td>\n",
       "      <td>0.000000</td>\n",
       "      <td>0.000000</td>\n",
       "      <td>0.000000</td>\n",
       "      <td>0.000000</td>\n",
       "      <td>0.000000</td>\n",
       "      <td>0.000000</td>\n",
       "      <td>0.000000</td>\n",
       "      <td>0.000000</td>\n",
       "    </tr>\n",
       "    <tr>\n",
       "      <th>25%</th>\n",
       "      <td>4111.000000</td>\n",
       "      <td>0.015800</td>\n",
       "      <td>0.055000</td>\n",
       "      <td>980.000000</td>\n",
       "      <td>13623.000000</td>\n",
       "      <td>3.000000</td>\n",
       "      <td>0.000000</td>\n",
       "      <td>0.000000</td>\n",
       "      <td>0.000000</td>\n",
       "      <td>0.000000</td>\n",
       "      <td>0.000000</td>\n",
       "      <td>0.000000</td>\n",
       "    </tr>\n",
       "    <tr>\n",
       "      <th>50%</th>\n",
       "      <td>5229.000000</td>\n",
       "      <td>0.074100</td>\n",
       "      <td>0.118000</td>\n",
       "      <td>1049.000000</td>\n",
       "      <td>22071.000000</td>\n",
       "      <td>5.000000</td>\n",
       "      <td>0.000000</td>\n",
       "      <td>0.000000</td>\n",
       "      <td>0.000000</td>\n",
       "      <td>0.000000</td>\n",
       "      <td>0.000000</td>\n",
       "      <td>0.000000</td>\n",
       "    </tr>\n",
       "    <tr>\n",
       "      <th>75%</th>\n",
       "      <td>6578.000000</td>\n",
       "      <td>0.218000</td>\n",
       "      <td>0.187000</td>\n",
       "      <td>1125.000000</td>\n",
       "      <td>30462.250000</td>\n",
       "      <td>6.000000</td>\n",
       "      <td>0.000000</td>\n",
       "      <td>0.000000</td>\n",
       "      <td>0.000000</td>\n",
       "      <td>0.000000</td>\n",
       "      <td>0.000000</td>\n",
       "      <td>0.000000</td>\n",
       "    </tr>\n",
       "    <tr>\n",
       "      <th>max</th>\n",
       "      <td>26084.000000</td>\n",
       "      <td>1.000000</td>\n",
       "      <td>1.000000</td>\n",
       "      <td>1599.000000</td>\n",
       "      <td>93704.000000</td>\n",
       "      <td>9.000000</td>\n",
       "      <td>1.000000</td>\n",
       "      <td>1.000000</td>\n",
       "      <td>1.000000</td>\n",
       "      <td>1.000000</td>\n",
       "      <td>1.000000</td>\n",
       "      <td>1.000000</td>\n",
       "    </tr>\n",
       "  </tbody>\n",
       "</table>\n",
       "</div>"
      ],
      "text/plain": [
       "          AVGFACSAL    UGDS_BLACK          CDR3   SAT_AVG_ALL      COSTT4_A  \\\n",
       "count  88298.000000  67772.000000  47815.000000  25780.000000  35682.000000   \n",
       "mean    5486.713561      0.162723      0.126643   1061.895423  24101.837425   \n",
       "std     2079.970791      0.217197      0.089612    127.754534  12674.271091   \n",
       "min       27.000000      0.000000      0.000000    514.000000      0.000000   \n",
       "25%     4111.000000      0.015800      0.055000    980.000000  13623.000000   \n",
       "50%     5229.000000      0.074100      0.118000   1049.000000  22071.000000   \n",
       "75%     6578.000000      0.218000      0.187000   1125.000000  30462.250000   \n",
       "max    26084.000000      1.000000      1.000000   1599.000000  93704.000000   \n",
       "\n",
       "              REGION         HBCU          PBI        ANNHI        NANTI  \\\n",
       "count  154227.000000  6558.000000  6558.000000  6558.000000  6558.000000   \n",
       "mean        4.552030     0.015401     0.015401     0.004422     0.004270   \n",
       "std         2.184821     0.123151     0.123151     0.066357     0.065207   \n",
       "min         0.000000     0.000000     0.000000     0.000000     0.000000   \n",
       "25%         3.000000     0.000000     0.000000     0.000000     0.000000   \n",
       "50%         5.000000     0.000000     0.000000     0.000000     0.000000   \n",
       "75%         6.000000     0.000000     0.000000     0.000000     0.000000   \n",
       "max         9.000000     1.000000     1.000000     1.000000     1.000000   \n",
       "\n",
       "            TRIBAL      AANAPII  \n",
       "count  6558.000000  6558.000000  \n",
       "mean      0.005185     0.020281  \n",
       "std       0.071822     0.140969  \n",
       "min       0.000000     0.000000  \n",
       "25%       0.000000     0.000000  \n",
       "50%       0.000000     0.000000  \n",
       "75%       0.000000     0.000000  \n",
       "max       1.000000     1.000000  "
      ]
     },
     "execution_count": 138,
     "metadata": {},
     "output_type": "execute_result"
    }
   ],
   "source": [
    "#df to work with--make index into year column\n",
    "dfyo = df[['AVGFACSAL','UGDS_BLACK','CDR3','SAT_AVG_ALL','COSTT4_A','REGION',\n",
    "           'HBCU','PBI','ANNHI','NANTI','TRIBAL','AANAPII']].reset_index(level=[0]).rename(columns={'level_0':'Year'})\n",
    "\n",
    "dfyo.describe()"
   ]
  },
  {
   "cell_type": "code",
   "execution_count": 109,
   "metadata": {
    "scrolled": true
   },
   "outputs": [],
   "source": [
    "#minority df\n",
    "df_minority = dfyo.loc[(dfyo['HBCU']==1) | (dfyo['PBI']==1) | \n",
    "                   (dfyo['TRIBAL']==1) | (dfyo['ANNHI']==1) | (dfyo['AANAPII']==1)].copy()\n",
    "\n",
    "\n",
    "#transform column to category\n",
    "df_minority[\"HBCU\"] = [\"HBCU\" if ele  == 1 else '' for ele in df_minority[\"HBCU\"]]\n",
    "df_minority[\"PBI\"] = [\"PBI\" if ele  == 1 else '' for ele in df_minority[\"PBI\"]]\n",
    "df_minority[\"ANNHI\"] = [\"ANNHI\" if ele  == 1 else '' for ele in df_minority[\"ANNHI\"]]\n",
    "df_minority[\"NANTI\"] = [\"NANTI\" if ele  == 1 else '' for ele in df_minority[\"NANTI\"]]\n",
    "df_minority[\"TRIBAL\"] = [\"TRIBAL\" if ele  == 1 else '' for ele in df_minority[\"TRIBAL\"]]\n",
    "df_minority[\"AANAPII\"] = [\"AANAPII\" if ele  == 1 else '' for ele in df_minority[\"AANAPII\"]]\n",
    "\n",
    "#combine columns\n",
    "df_minority['Minority_Serving'] = df_minority['HBCU'].astype(str).str.cat(df_minority[['PBI', 'ANNHI', 'NANTI',\n",
    "                                                                           'TRIBAL','AANAPII']].astype(str))\n",
    "#drop na vals\n",
    "df_minority.dropna(inplace=True)"
   ]
  },
  {
   "cell_type": "code",
   "execution_count": 137,
   "metadata": {},
   "outputs": [
    {
     "data": {
      "application/vnd.plotly.v1+json": {
       "config": {
        "plotlyServerURL": "https://plot.ly"
       },
       "data": [
        {
         "hoverlabel": {
          "namelength": 0
         },
         "hovertemplate": "<b>%{hovertext}</b><br><br>Minority_Serving=HBCU<br>SAT_AVG_ALL=%{x}<br>CDR3=%{y}<br>COSTT4_A=%{marker.size}",
         "hovertext": [
          "HBCU",
          "HBCU",
          "HBCU",
          "HBCU",
          "HBCU",
          "HBCU",
          "HBCU",
          "HBCU",
          "HBCU",
          "HBCU",
          "HBCU",
          "HBCU",
          "HBCU",
          "HBCU",
          "HBCU",
          "HBCU",
          "HBCU",
          "HBCU",
          "HBCU",
          "HBCU",
          "HBCU",
          "HBCU",
          "HBCU",
          "HBCU",
          "HBCU",
          "HBCU",
          "HBCU",
          "HBCU",
          "HBCU",
          "HBCU",
          "HBCU",
          "HBCU",
          "HBCU",
          "HBCU",
          "HBCU",
          "HBCU",
          "HBCU",
          "HBCU",
          "HBCU",
          "HBCU",
          "HBCU",
          "HBCU",
          "HBCU",
          "HBCU",
          "HBCU",
          "HBCU",
          "HBCU",
          "HBCU",
          "HBCU",
          "HBCU",
          "HBCU",
          "HBCU",
          "HBCU",
          "HBCU",
          "HBCU",
          "HBCU"
         ],
         "legendgroup": "Minority_Serving=HBCU",
         "marker": {
          "color": "#636efa",
          "size": [
           22886,
           19413,
           35577,
           36673,
           16264,
           21318,
           41488,
           24965,
           22235,
           37761,
           19655,
           47888,
           24782,
           16498,
           46359,
           18436,
           30853,
           22328,
           12778,
           33593,
           20911,
           17848,
           22192,
           23774,
           22357,
           22397,
           19071,
           20918,
           33170,
           13139,
           15463,
           31909,
           27660,
           19243,
           21298,
           32328,
           19119,
           18994,
           23100,
           26226,
           32079,
           29355,
           38698,
           20650,
           17645,
           27116,
           17509,
           22444,
           24089,
           38849,
           23992,
           22009,
           30317,
           15638,
           16585,
           16786
          ],
          "sizemode": "area",
          "sizeref": 157.7925,
          "symbol": "circle"
         },
         "mode": "markers",
         "name": "Minority_Serving=HBCU",
         "showlegend": true,
         "type": "scatter",
         "x": [
          929,
          935,
          1005,
          1036,
          951,
          918,
          1201,
          885,
          1044,
          1000,
          564,
          1050,
          850,
          933,
          1163,
          982,
          1009,
          988,
          890,
          1126,
          950,
          930,
          950,
          977,
          1005,
          990,
          930,
          1025,
          851,
          936,
          955,
          868,
          822,
          1010,
          967,
          834,
          943,
          868,
          872,
          970,
          958,
          898,
          1014,
          845,
          845,
          947,
          843,
          956,
          846,
          1083,
          946,
          914,
          922,
          994,
          1007,
          913
         ],
         "xaxis": "x",
         "y": [
          0.198,
          0.21100000000000002,
          0.13699999999999998,
          0.115,
          0.141,
          0.133,
          0.078,
          0.217,
          0.095,
          0.12,
          0.142,
          0.134,
          0.282,
          0.185,
          0.05,
          0.172,
          0.134,
          0.08800000000000001,
          0.162,
          0.08,
          0.11800000000000001,
          0.17,
          0.13,
          0.159,
          0.195,
          0.14400000000000002,
          0.18899999999999997,
          0.192,
          0.136,
          0.135,
          0.11,
          0.19,
          0.287,
          0.106,
          0.083,
          0.235,
          0.127,
          0.278,
          0.22399999999999998,
          0.135,
          0.084,
          0.125,
          0.121,
          0.125,
          0.204,
          0.192,
          0.205,
          0.124,
          0.08800000000000001,
          0.07200000000000001,
          0.115,
          0.162,
          0.154,
          0.204,
          0.171,
          0.131
         ],
         "yaxis": "y"
        },
        {
         "hoverlabel": {
          "namelength": 0
         },
         "hovertemplate": "<b>%{hovertext}</b><br><br>Minority_Serving=PBI<br>SAT_AVG_ALL=%{x}<br>CDR3=%{y}<br>COSTT4_A=%{marker.size}",
         "hovertext": [
          "PBI",
          "PBI",
          "PBI",
          "PBI",
          "PBI",
          "PBI",
          "PBI",
          "PBI",
          "PBI",
          "PBI",
          "PBI",
          "PBI",
          "PBI",
          "PBI",
          "PBI",
          "PBI"
         ],
         "legendgroup": "Minority_Serving=PBI",
         "marker": {
          "color": "#EF553B",
          "size": [
           31720,
           19671,
           21270,
           30067,
           29792,
           25951,
           32240,
           43059,
           13958,
           48759,
           35228,
           41136,
           39156,
           20606,
           10600,
           24635
          ],
          "sizemode": "area",
          "sizeref": 157.7925,
          "symbol": "circle"
         },
         "mode": "markers",
         "name": "Minority_Serving=PBI",
         "showlegend": true,
         "type": "scatter",
         "x": [
          1031,
          1041,
          952,
          910,
          886,
          999,
          957,
          934,
          960,
          982,
          859,
          967,
          1019,
          1155,
          1128,
          1017
         ],
         "xaxis": "x",
         "y": [
          0.122,
          0.078,
          0.12,
          0.272,
          0.073,
          0.08199999999999999,
          0.105,
          0.145,
          0.061,
          0.126,
          0.17,
          0.158,
          0.11,
          0.04,
          0.096,
          0.098
         ],
         "yaxis": "y"
        },
        {
         "hoverlabel": {
          "namelength": 0
         },
         "hovertemplate": "<b>%{hovertext}</b><br><br>Minority_Serving=ANNHI<br>SAT_AVG_ALL=%{x}<br>CDR3=%{y}<br>COSTT4_A=%{marker.size}",
         "hovertext": [
          "ANNHI",
          "ANNHI",
          "ANNHI",
          "ANNHI"
         ],
         "legendgroup": "Minority_Serving=ANNHI",
         "marker": {
          "color": "#00cc96",
          "size": [
           17168,
           35127,
           23015,
           14029
          ],
          "sizemode": "area",
          "sizeref": 157.7925,
          "symbol": "circle"
         },
         "mode": "markers",
         "name": "Minority_Serving=ANNHI",
         "showlegend": true,
         "type": "scatter",
         "x": [
          1094,
          1068,
          1154,
          966
         ],
         "xaxis": "x",
         "y": [
          0.122,
          0.055999999999999994,
          0.042,
          0.047
         ],
         "yaxis": "y"
        },
        {
         "hoverlabel": {
          "namelength": 0
         },
         "hovertemplate": "<b>%{hovertext}</b><br><br>Minority_Serving=AANAPII<br>SAT_AVG_ALL=%{x}<br>CDR3=%{y}<br>COSTT4_A=%{marker.size}",
         "hovertext": [
          "AANAPII",
          "AANAPII",
          "AANAPII",
          "AANAPII",
          "AANAPII",
          "AANAPII",
          "AANAPII",
          "AANAPII",
          "AANAPII",
          "AANAPII",
          "AANAPII",
          "AANAPII",
          "AANAPII",
          "AANAPII",
          "AANAPII",
          "AANAPII",
          "AANAPII",
          "AANAPII",
          "AANAPII",
          "AANAPII",
          "AANAPII",
          "AANAPII",
          "AANAPII",
          "AANAPII",
          "AANAPII",
          "AANAPII",
          "AANAPII",
          "AANAPII",
          "AANAPII",
          "AANAPII",
          "AANAPII",
          "AANAPII",
          "AANAPII",
          "AANAPII",
          "AANAPII",
          "AANAPII",
          "AANAPII",
          "AANAPII",
          "AANAPII",
          "AANAPII",
          "AANAPII",
          "AANAPII",
          "AANAPII",
          "AANAPII",
          "AANAPII"
         ],
         "legendgroup": "Minority_Serving=AANAPII",
         "marker": {
          "color": "#ab63fa",
          "size": [
           49911,
           21137,
           13612,
           18989,
           34435,
           31976,
           32308,
           53298,
           52180,
           41331,
           58718,
           21051,
           22313,
           63117,
           23030,
           62974,
           40185,
           25445,
           24503,
           21777,
           38316,
           25790,
           47149,
           16964,
           24719,
           48521,
           13510,
           13404,
           13698,
           13347,
           13815,
           46937,
           46971,
           51401,
           19529,
           55606,
           19170,
           23536,
           24678,
           42587,
           47359,
           21568,
           20426,
           34330,
           15788
          ],
          "sizemode": "area",
          "sizeref": 157.7925,
          "symbol": "circle"
         },
         "mode": "markers",
         "name": "Minority_Serving=AANAPII",
         "showlegend": true,
         "type": "scatter",
         "x": [
          1131,
          1129,
          968,
          1036,
          1286,
          1291,
          1215,
          857,
          1013,
          1055,
          1220,
          1206,
          1054,
          1203,
          1110,
          1170,
          1110,
          1150,
          1255,
          1134,
          1203,
          1344,
          1146,
          1100,
          1238,
          1164,
          1270,
          1130,
          1140,
          1205,
          1140,
          1141,
          1139,
          1171,
          1028,
          1180,
          1105,
          1189,
          1202,
          1160,
          1081,
          1295,
          1295,
          1114,
          1249
         ],
         "xaxis": "x",
         "y": [
          0.034,
          0.037000000000000005,
          0.054000000000000006,
          0.054000000000000006,
          0.02,
          0.019,
          0.027999999999999997,
          0.04,
          0.042,
          0.071,
          0.019,
          0.027999999999999997,
          0.048,
          0.03,
          0.035,
          0.034,
          0.057,
          0.026000000000000002,
          0.04,
          0.051,
          0.053,
          0.02,
          0.031,
          0.07400000000000001,
          0.036000000000000004,
          0.037000000000000005,
          0.035,
          0.059000000000000004,
          0.063,
          0.040999999999999995,
          0.043,
          0.073,
          0.05,
          0.044000000000000004,
          0.079,
          0.023,
          0.066,
          0.051,
          0.037000000000000005,
          0.028999999999999998,
          0.040999999999999995,
          0.025,
          0.025,
          0.039,
          0.025
         ],
         "yaxis": "y"
        },
        {
         "hoverlabel": {
          "namelength": 0
         },
         "hovertemplate": "<b>%{hovertext}</b><br><br>Minority_Serving=ANNHINANTI<br>SAT_AVG_ALL=%{x}<br>CDR3=%{y}<br>COSTT4_A=%{marker.size}",
         "hovertext": [
          "ANNHINANTI",
          "ANNHINANTI"
         ],
         "legendgroup": "Minority_Serving=ANNHINANTI",
         "marker": {
          "color": "#FFA15A",
          "size": [
           25064,
           35200
          ],
          "sizemode": "area",
          "sizeref": 157.7925,
          "symbol": "circle"
         },
         "mode": "markers",
         "name": "Minority_Serving=ANNHINANTI",
         "showlegend": true,
         "type": "scatter",
         "x": [
          1123,
          890
         ],
         "xaxis": "x",
         "y": [
          0.102,
          0.106
         ],
         "yaxis": "y"
        },
        {
         "hoverlabel": {
          "namelength": 0
         },
         "hovertemplate": "<b>%{hovertext}</b><br><br>Minority_Serving=PBIAANAPII<br>SAT_AVG_ALL=%{x}<br>CDR3=%{y}<br>COSTT4_A=%{marker.size}",
         "hovertext": [
          "PBIAANAPII"
         ],
         "legendgroup": "Minority_Serving=PBIAANAPII",
         "marker": {
          "color": "#19d3f3",
          "size": [
           24857
          ],
          "sizemode": "area",
          "sizeref": 157.7925,
          "symbol": "circle"
         },
         "mode": "markers",
         "name": "Minority_Serving=PBIAANAPII",
         "showlegend": true,
         "type": "scatter",
         "x": [
          1128
         ],
         "xaxis": "x",
         "y": [
          0.096
         ],
         "yaxis": "y"
        },
        {
         "hoverlabel": {
          "namelength": 0
         },
         "hovertemplate": "<b>%{hovertext}</b><br><br>Minority_Serving=ANNHIAANAPII<br>SAT_AVG_ALL=%{x}<br>CDR3=%{y}<br>COSTT4_A=%{marker.size}",
         "hovertext": [
          "ANNHIAANAPII"
         ],
         "legendgroup": "Minority_Serving=ANNHIAANAPII",
         "marker": {
          "color": "#FF6692",
          "size": [
           21095
          ],
          "sizemode": "area",
          "sizeref": 157.7925,
          "symbol": "circle"
         },
         "mode": "markers",
         "name": "Minority_Serving=ANNHIAANAPII",
         "showlegend": true,
         "type": "scatter",
         "x": [
          1047
         ],
         "xaxis": "x",
         "y": [
          0.075
         ],
         "yaxis": "y"
        }
       ],
       "layout": {
        "height": 600,
        "legend": {
         "itemsizing": "constant",
         "tracegroupgap": 0
        },
        "margin": {
         "t": 60
        },
        "template": {
         "data": {
          "bar": [
           {
            "error_x": {
             "color": "#2a3f5f"
            },
            "error_y": {
             "color": "#2a3f5f"
            },
            "marker": {
             "line": {
              "color": "#E5ECF6",
              "width": 0.5
             }
            },
            "type": "bar"
           }
          ],
          "barpolar": [
           {
            "marker": {
             "line": {
              "color": "#E5ECF6",
              "width": 0.5
             }
            },
            "type": "barpolar"
           }
          ],
          "carpet": [
           {
            "aaxis": {
             "endlinecolor": "#2a3f5f",
             "gridcolor": "white",
             "linecolor": "white",
             "minorgridcolor": "white",
             "startlinecolor": "#2a3f5f"
            },
            "baxis": {
             "endlinecolor": "#2a3f5f",
             "gridcolor": "white",
             "linecolor": "white",
             "minorgridcolor": "white",
             "startlinecolor": "#2a3f5f"
            },
            "type": "carpet"
           }
          ],
          "choropleth": [
           {
            "colorbar": {
             "outlinewidth": 0,
             "ticks": ""
            },
            "type": "choropleth"
           }
          ],
          "contour": [
           {
            "colorbar": {
             "outlinewidth": 0,
             "ticks": ""
            },
            "colorscale": [
             [
              0,
              "#0d0887"
             ],
             [
              0.1111111111111111,
              "#46039f"
             ],
             [
              0.2222222222222222,
              "#7201a8"
             ],
             [
              0.3333333333333333,
              "#9c179e"
             ],
             [
              0.4444444444444444,
              "#bd3786"
             ],
             [
              0.5555555555555556,
              "#d8576b"
             ],
             [
              0.6666666666666666,
              "#ed7953"
             ],
             [
              0.7777777777777778,
              "#fb9f3a"
             ],
             [
              0.8888888888888888,
              "#fdca26"
             ],
             [
              1,
              "#f0f921"
             ]
            ],
            "type": "contour"
           }
          ],
          "contourcarpet": [
           {
            "colorbar": {
             "outlinewidth": 0,
             "ticks": ""
            },
            "type": "contourcarpet"
           }
          ],
          "heatmap": [
           {
            "colorbar": {
             "outlinewidth": 0,
             "ticks": ""
            },
            "colorscale": [
             [
              0,
              "#0d0887"
             ],
             [
              0.1111111111111111,
              "#46039f"
             ],
             [
              0.2222222222222222,
              "#7201a8"
             ],
             [
              0.3333333333333333,
              "#9c179e"
             ],
             [
              0.4444444444444444,
              "#bd3786"
             ],
             [
              0.5555555555555556,
              "#d8576b"
             ],
             [
              0.6666666666666666,
              "#ed7953"
             ],
             [
              0.7777777777777778,
              "#fb9f3a"
             ],
             [
              0.8888888888888888,
              "#fdca26"
             ],
             [
              1,
              "#f0f921"
             ]
            ],
            "type": "heatmap"
           }
          ],
          "heatmapgl": [
           {
            "colorbar": {
             "outlinewidth": 0,
             "ticks": ""
            },
            "colorscale": [
             [
              0,
              "#0d0887"
             ],
             [
              0.1111111111111111,
              "#46039f"
             ],
             [
              0.2222222222222222,
              "#7201a8"
             ],
             [
              0.3333333333333333,
              "#9c179e"
             ],
             [
              0.4444444444444444,
              "#bd3786"
             ],
             [
              0.5555555555555556,
              "#d8576b"
             ],
             [
              0.6666666666666666,
              "#ed7953"
             ],
             [
              0.7777777777777778,
              "#fb9f3a"
             ],
             [
              0.8888888888888888,
              "#fdca26"
             ],
             [
              1,
              "#f0f921"
             ]
            ],
            "type": "heatmapgl"
           }
          ],
          "histogram": [
           {
            "marker": {
             "colorbar": {
              "outlinewidth": 0,
              "ticks": ""
             }
            },
            "type": "histogram"
           }
          ],
          "histogram2d": [
           {
            "colorbar": {
             "outlinewidth": 0,
             "ticks": ""
            },
            "colorscale": [
             [
              0,
              "#0d0887"
             ],
             [
              0.1111111111111111,
              "#46039f"
             ],
             [
              0.2222222222222222,
              "#7201a8"
             ],
             [
              0.3333333333333333,
              "#9c179e"
             ],
             [
              0.4444444444444444,
              "#bd3786"
             ],
             [
              0.5555555555555556,
              "#d8576b"
             ],
             [
              0.6666666666666666,
              "#ed7953"
             ],
             [
              0.7777777777777778,
              "#fb9f3a"
             ],
             [
              0.8888888888888888,
              "#fdca26"
             ],
             [
              1,
              "#f0f921"
             ]
            ],
            "type": "histogram2d"
           }
          ],
          "histogram2dcontour": [
           {
            "colorbar": {
             "outlinewidth": 0,
             "ticks": ""
            },
            "colorscale": [
             [
              0,
              "#0d0887"
             ],
             [
              0.1111111111111111,
              "#46039f"
             ],
             [
              0.2222222222222222,
              "#7201a8"
             ],
             [
              0.3333333333333333,
              "#9c179e"
             ],
             [
              0.4444444444444444,
              "#bd3786"
             ],
             [
              0.5555555555555556,
              "#d8576b"
             ],
             [
              0.6666666666666666,
              "#ed7953"
             ],
             [
              0.7777777777777778,
              "#fb9f3a"
             ],
             [
              0.8888888888888888,
              "#fdca26"
             ],
             [
              1,
              "#f0f921"
             ]
            ],
            "type": "histogram2dcontour"
           }
          ],
          "mesh3d": [
           {
            "colorbar": {
             "outlinewidth": 0,
             "ticks": ""
            },
            "type": "mesh3d"
           }
          ],
          "parcoords": [
           {
            "line": {
             "colorbar": {
              "outlinewidth": 0,
              "ticks": ""
             }
            },
            "type": "parcoords"
           }
          ],
          "scatter": [
           {
            "marker": {
             "colorbar": {
              "outlinewidth": 0,
              "ticks": ""
             }
            },
            "type": "scatter"
           }
          ],
          "scatter3d": [
           {
            "line": {
             "colorbar": {
              "outlinewidth": 0,
              "ticks": ""
             }
            },
            "marker": {
             "colorbar": {
              "outlinewidth": 0,
              "ticks": ""
             }
            },
            "type": "scatter3d"
           }
          ],
          "scattercarpet": [
           {
            "marker": {
             "colorbar": {
              "outlinewidth": 0,
              "ticks": ""
             }
            },
            "type": "scattercarpet"
           }
          ],
          "scattergeo": [
           {
            "marker": {
             "colorbar": {
              "outlinewidth": 0,
              "ticks": ""
             }
            },
            "type": "scattergeo"
           }
          ],
          "scattergl": [
           {
            "marker": {
             "colorbar": {
              "outlinewidth": 0,
              "ticks": ""
             }
            },
            "type": "scattergl"
           }
          ],
          "scattermapbox": [
           {
            "marker": {
             "colorbar": {
              "outlinewidth": 0,
              "ticks": ""
             }
            },
            "type": "scattermapbox"
           }
          ],
          "scatterpolar": [
           {
            "marker": {
             "colorbar": {
              "outlinewidth": 0,
              "ticks": ""
             }
            },
            "type": "scatterpolar"
           }
          ],
          "scatterpolargl": [
           {
            "marker": {
             "colorbar": {
              "outlinewidth": 0,
              "ticks": ""
             }
            },
            "type": "scatterpolargl"
           }
          ],
          "scatterternary": [
           {
            "marker": {
             "colorbar": {
              "outlinewidth": 0,
              "ticks": ""
             }
            },
            "type": "scatterternary"
           }
          ],
          "surface": [
           {
            "colorbar": {
             "outlinewidth": 0,
             "ticks": ""
            },
            "colorscale": [
             [
              0,
              "#0d0887"
             ],
             [
              0.1111111111111111,
              "#46039f"
             ],
             [
              0.2222222222222222,
              "#7201a8"
             ],
             [
              0.3333333333333333,
              "#9c179e"
             ],
             [
              0.4444444444444444,
              "#bd3786"
             ],
             [
              0.5555555555555556,
              "#d8576b"
             ],
             [
              0.6666666666666666,
              "#ed7953"
             ],
             [
              0.7777777777777778,
              "#fb9f3a"
             ],
             [
              0.8888888888888888,
              "#fdca26"
             ],
             [
              1,
              "#f0f921"
             ]
            ],
            "type": "surface"
           }
          ],
          "table": [
           {
            "cells": {
             "fill": {
              "color": "#EBF0F8"
             },
             "line": {
              "color": "white"
             }
            },
            "header": {
             "fill": {
              "color": "#C8D4E3"
             },
             "line": {
              "color": "white"
             }
            },
            "type": "table"
           }
          ]
         },
         "layout": {
          "annotationdefaults": {
           "arrowcolor": "#2a3f5f",
           "arrowhead": 0,
           "arrowwidth": 1
          },
          "colorscale": {
           "diverging": [
            [
             0,
             "#8e0152"
            ],
            [
             0.1,
             "#c51b7d"
            ],
            [
             0.2,
             "#de77ae"
            ],
            [
             0.3,
             "#f1b6da"
            ],
            [
             0.4,
             "#fde0ef"
            ],
            [
             0.5,
             "#f7f7f7"
            ],
            [
             0.6,
             "#e6f5d0"
            ],
            [
             0.7,
             "#b8e186"
            ],
            [
             0.8,
             "#7fbc41"
            ],
            [
             0.9,
             "#4d9221"
            ],
            [
             1,
             "#276419"
            ]
           ],
           "sequential": [
            [
             0,
             "#0d0887"
            ],
            [
             0.1111111111111111,
             "#46039f"
            ],
            [
             0.2222222222222222,
             "#7201a8"
            ],
            [
             0.3333333333333333,
             "#9c179e"
            ],
            [
             0.4444444444444444,
             "#bd3786"
            ],
            [
             0.5555555555555556,
             "#d8576b"
            ],
            [
             0.6666666666666666,
             "#ed7953"
            ],
            [
             0.7777777777777778,
             "#fb9f3a"
            ],
            [
             0.8888888888888888,
             "#fdca26"
            ],
            [
             1,
             "#f0f921"
            ]
           ],
           "sequentialminus": [
            [
             0,
             "#0d0887"
            ],
            [
             0.1111111111111111,
             "#46039f"
            ],
            [
             0.2222222222222222,
             "#7201a8"
            ],
            [
             0.3333333333333333,
             "#9c179e"
            ],
            [
             0.4444444444444444,
             "#bd3786"
            ],
            [
             0.5555555555555556,
             "#d8576b"
            ],
            [
             0.6666666666666666,
             "#ed7953"
            ],
            [
             0.7777777777777778,
             "#fb9f3a"
            ],
            [
             0.8888888888888888,
             "#fdca26"
            ],
            [
             1,
             "#f0f921"
            ]
           ]
          },
          "colorway": [
           "#636efa",
           "#EF553B",
           "#00cc96",
           "#ab63fa",
           "#FFA15A",
           "#19d3f3",
           "#FF6692",
           "#B6E880",
           "#FF97FF",
           "#FECB52"
          ],
          "font": {
           "color": "#2a3f5f"
          },
          "geo": {
           "bgcolor": "white",
           "lakecolor": "white",
           "landcolor": "#E5ECF6",
           "showlakes": true,
           "showland": true,
           "subunitcolor": "white"
          },
          "hoverlabel": {
           "align": "left"
          },
          "hovermode": "closest",
          "mapbox": {
           "style": "light"
          },
          "paper_bgcolor": "white",
          "plot_bgcolor": "#E5ECF6",
          "polar": {
           "angularaxis": {
            "gridcolor": "white",
            "linecolor": "white",
            "ticks": ""
           },
           "bgcolor": "#E5ECF6",
           "radialaxis": {
            "gridcolor": "white",
            "linecolor": "white",
            "ticks": ""
           }
          },
          "scene": {
           "xaxis": {
            "backgroundcolor": "#E5ECF6",
            "gridcolor": "white",
            "gridwidth": 2,
            "linecolor": "white",
            "showbackground": true,
            "ticks": "",
            "zerolinecolor": "white"
           },
           "yaxis": {
            "backgroundcolor": "#E5ECF6",
            "gridcolor": "white",
            "gridwidth": 2,
            "linecolor": "white",
            "showbackground": true,
            "ticks": "",
            "zerolinecolor": "white"
           },
           "zaxis": {
            "backgroundcolor": "#E5ECF6",
            "gridcolor": "white",
            "gridwidth": 2,
            "linecolor": "white",
            "showbackground": true,
            "ticks": "",
            "zerolinecolor": "white"
           }
          },
          "shapedefaults": {
           "line": {
            "color": "#2a3f5f"
           }
          },
          "ternary": {
           "aaxis": {
            "gridcolor": "white",
            "linecolor": "white",
            "ticks": ""
           },
           "baxis": {
            "gridcolor": "white",
            "linecolor": "white",
            "ticks": ""
           },
           "bgcolor": "#E5ECF6",
           "caxis": {
            "gridcolor": "white",
            "linecolor": "white",
            "ticks": ""
           }
          },
          "title": {
           "x": 0.05
          },
          "xaxis": {
           "automargin": true,
           "gridcolor": "white",
           "linecolor": "white",
           "ticks": "",
           "zerolinecolor": "white",
           "zerolinewidth": 2
          },
          "yaxis": {
           "automargin": true,
           "gridcolor": "white",
           "linecolor": "white",
           "ticks": "",
           "zerolinecolor": "white",
           "zerolinewidth": 2
          }
         }
        },
        "xaxis": {
         "anchor": "y",
         "domain": [
          0,
          0.98
         ],
         "title": {
          "text": "SAT_AVG_ALL"
         }
        },
        "yaxis": {
         "anchor": "x",
         "domain": [
          0,
          1
         ],
         "title": {
          "text": "CDR3"
         }
        }
       }
      },
      "text/html": [
       "<div>\n",
       "        \n",
       "        \n",
       "            <div id=\"0b860269-b22b-4b16-8571-c804a22f7122\" class=\"plotly-graph-div\" style=\"height:600px; width:100%;\"></div>\n",
       "            <script type=\"text/javascript\">\n",
       "                require([\"plotly\"], function(Plotly) {\n",
       "                    window.PLOTLYENV=window.PLOTLYENV || {};\n",
       "                    \n",
       "                if (document.getElementById(\"0b860269-b22b-4b16-8571-c804a22f7122\")) {\n",
       "                    Plotly.newPlot(\n",
       "                        '0b860269-b22b-4b16-8571-c804a22f7122',\n",
       "                        [{\"hoverlabel\": {\"namelength\": 0}, \"hovertemplate\": \"<b>%{hovertext}</b><br><br>Minority_Serving=HBCU<br>SAT_AVG_ALL=%{x}<br>CDR3=%{y}<br>COSTT4_A=%{marker.size}\", \"hovertext\": [\"HBCU\", \"HBCU\", \"HBCU\", \"HBCU\", \"HBCU\", \"HBCU\", \"HBCU\", \"HBCU\", \"HBCU\", \"HBCU\", \"HBCU\", \"HBCU\", \"HBCU\", \"HBCU\", \"HBCU\", \"HBCU\", \"HBCU\", \"HBCU\", \"HBCU\", \"HBCU\", \"HBCU\", \"HBCU\", \"HBCU\", \"HBCU\", \"HBCU\", \"HBCU\", \"HBCU\", \"HBCU\", \"HBCU\", \"HBCU\", \"HBCU\", \"HBCU\", \"HBCU\", \"HBCU\", \"HBCU\", \"HBCU\", \"HBCU\", \"HBCU\", \"HBCU\", \"HBCU\", \"HBCU\", \"HBCU\", \"HBCU\", \"HBCU\", \"HBCU\", \"HBCU\", \"HBCU\", \"HBCU\", \"HBCU\", \"HBCU\", \"HBCU\", \"HBCU\", \"HBCU\", \"HBCU\", \"HBCU\", \"HBCU\"], \"legendgroup\": \"Minority_Serving=HBCU\", \"marker\": {\"color\": \"#636efa\", \"size\": [22886.0, 19413.0, 35577.0, 36673.0, 16264.0, 21318.0, 41488.0, 24965.0, 22235.0, 37761.0, 19655.0, 47888.0, 24782.0, 16498.0, 46359.0, 18436.0, 30853.0, 22328.0, 12778.0, 33593.0, 20911.0, 17848.0, 22192.0, 23774.0, 22357.0, 22397.0, 19071.0, 20918.0, 33170.0, 13139.0, 15463.0, 31909.0, 27660.0, 19243.0, 21298.0, 32328.0, 19119.0, 18994.0, 23100.0, 26226.0, 32079.0, 29355.0, 38698.0, 20650.0, 17645.0, 27116.0, 17509.0, 22444.0, 24089.0, 38849.0, 23992.0, 22009.0, 30317.0, 15638.0, 16585.0, 16786.0], \"sizemode\": \"area\", \"sizeref\": 157.7925, \"symbol\": \"circle\"}, \"mode\": \"markers\", \"name\": \"Minority_Serving=HBCU\", \"showlegend\": true, \"type\": \"scatter\", \"x\": [929.0, 935.0, 1005.0, 1036.0, 951.0, 918.0, 1201.0, 885.0, 1044.0, 1000.0, 564.0, 1050.0, 850.0, 933.0, 1163.0, 982.0, 1009.0, 988.0, 890.0, 1126.0, 950.0, 930.0, 950.0, 977.0, 1005.0, 990.0, 930.0, 1025.0, 851.0, 936.0, 955.0, 868.0, 822.0, 1010.0, 967.0, 834.0, 943.0, 868.0, 872.0, 970.0, 958.0, 898.0, 1014.0, 845.0, 845.0, 947.0, 843.0, 956.0, 846.0, 1083.0, 946.0, 914.0, 922.0, 994.0, 1007.0, 913.0], \"xaxis\": \"x\", \"y\": [0.198, 0.21100000000000002, 0.13699999999999998, 0.115, 0.141, 0.133, 0.078, 0.217, 0.095, 0.12, 0.142, 0.134, 0.282, 0.185, 0.05, 0.172, 0.134, 0.08800000000000001, 0.162, 0.08, 0.11800000000000001, 0.17, 0.13, 0.159, 0.195, 0.14400000000000002, 0.18899999999999997, 0.192, 0.136, 0.135, 0.11, 0.19, 0.287, 0.106, 0.083, 0.235, 0.127, 0.278, 0.22399999999999998, 0.135, 0.084, 0.125, 0.121, 0.125, 0.204, 0.192, 0.205, 0.124, 0.08800000000000001, 0.07200000000000001, 0.115, 0.162, 0.154, 0.204, 0.171, 0.131], \"yaxis\": \"y\"}, {\"hoverlabel\": {\"namelength\": 0}, \"hovertemplate\": \"<b>%{hovertext}</b><br><br>Minority_Serving=PBI<br>SAT_AVG_ALL=%{x}<br>CDR3=%{y}<br>COSTT4_A=%{marker.size}\", \"hovertext\": [\"PBI\", \"PBI\", \"PBI\", \"PBI\", \"PBI\", \"PBI\", \"PBI\", \"PBI\", \"PBI\", \"PBI\", \"PBI\", \"PBI\", \"PBI\", \"PBI\", \"PBI\", \"PBI\"], \"legendgroup\": \"Minority_Serving=PBI\", \"marker\": {\"color\": \"#EF553B\", \"size\": [31720.0, 19671.0, 21270.0, 30067.0, 29792.0, 25951.0, 32240.0, 43059.0, 13958.0, 48759.0, 35228.0, 41136.0, 39156.0, 20606.0, 10600.0, 24635.0], \"sizemode\": \"area\", \"sizeref\": 157.7925, \"symbol\": \"circle\"}, \"mode\": \"markers\", \"name\": \"Minority_Serving=PBI\", \"showlegend\": true, \"type\": \"scatter\", \"x\": [1031.0, 1041.0, 952.0, 910.0, 886.0, 999.0, 957.0, 934.0, 960.0, 982.0, 859.0, 967.0, 1019.0, 1155.0, 1128.0, 1017.0], \"xaxis\": \"x\", \"y\": [0.122, 0.078, 0.12, 0.272, 0.073, 0.08199999999999999, 0.105, 0.145, 0.061, 0.126, 0.17, 0.158, 0.11, 0.04, 0.096, 0.098], \"yaxis\": \"y\"}, {\"hoverlabel\": {\"namelength\": 0}, \"hovertemplate\": \"<b>%{hovertext}</b><br><br>Minority_Serving=ANNHI<br>SAT_AVG_ALL=%{x}<br>CDR3=%{y}<br>COSTT4_A=%{marker.size}\", \"hovertext\": [\"ANNHI\", \"ANNHI\", \"ANNHI\", \"ANNHI\"], \"legendgroup\": \"Minority_Serving=ANNHI\", \"marker\": {\"color\": \"#00cc96\", \"size\": [17168.0, 35127.0, 23015.0, 14029.0], \"sizemode\": \"area\", \"sizeref\": 157.7925, \"symbol\": \"circle\"}, \"mode\": \"markers\", \"name\": \"Minority_Serving=ANNHI\", \"showlegend\": true, \"type\": \"scatter\", \"x\": [1094.0, 1068.0, 1154.0, 966.0], \"xaxis\": \"x\", \"y\": [0.122, 0.055999999999999994, 0.042, 0.047], \"yaxis\": \"y\"}, {\"hoverlabel\": {\"namelength\": 0}, \"hovertemplate\": \"<b>%{hovertext}</b><br><br>Minority_Serving=AANAPII<br>SAT_AVG_ALL=%{x}<br>CDR3=%{y}<br>COSTT4_A=%{marker.size}\", \"hovertext\": [\"AANAPII\", \"AANAPII\", \"AANAPII\", \"AANAPII\", \"AANAPII\", \"AANAPII\", \"AANAPII\", \"AANAPII\", \"AANAPII\", \"AANAPII\", \"AANAPII\", \"AANAPII\", \"AANAPII\", \"AANAPII\", \"AANAPII\", \"AANAPII\", \"AANAPII\", \"AANAPII\", \"AANAPII\", \"AANAPII\", \"AANAPII\", \"AANAPII\", \"AANAPII\", \"AANAPII\", \"AANAPII\", \"AANAPII\", \"AANAPII\", \"AANAPII\", \"AANAPII\", \"AANAPII\", \"AANAPII\", \"AANAPII\", \"AANAPII\", \"AANAPII\", \"AANAPII\", \"AANAPII\", \"AANAPII\", \"AANAPII\", \"AANAPII\", \"AANAPII\", \"AANAPII\", \"AANAPII\", \"AANAPII\", \"AANAPII\", \"AANAPII\"], \"legendgroup\": \"Minority_Serving=AANAPII\", \"marker\": {\"color\": \"#ab63fa\", \"size\": [49911.0, 21137.0, 13612.0, 18989.0, 34435.0, 31976.0, 32308.0, 53298.0, 52180.0, 41331.0, 58718.0, 21051.0, 22313.0, 63117.0, 23030.0, 62974.0, 40185.0, 25445.0, 24503.0, 21777.0, 38316.0, 25790.0, 47149.0, 16964.0, 24719.0, 48521.0, 13510.0, 13404.0, 13698.0, 13347.0, 13815.0, 46937.0, 46971.0, 51401.0, 19529.0, 55606.0, 19170.0, 23536.0, 24678.0, 42587.0, 47359.0, 21568.0, 20426.0, 34330.0, 15788.0], \"sizemode\": \"area\", \"sizeref\": 157.7925, \"symbol\": \"circle\"}, \"mode\": \"markers\", \"name\": \"Minority_Serving=AANAPII\", \"showlegend\": true, \"type\": \"scatter\", \"x\": [1131.0, 1129.0, 968.0, 1036.0, 1286.0, 1291.0, 1215.0, 857.0, 1013.0, 1055.0, 1220.0, 1206.0, 1054.0, 1203.0, 1110.0, 1170.0, 1110.0, 1150.0, 1255.0, 1134.0, 1203.0, 1344.0, 1146.0, 1100.0, 1238.0, 1164.0, 1270.0, 1130.0, 1140.0, 1205.0, 1140.0, 1141.0, 1139.0, 1171.0, 1028.0, 1180.0, 1105.0, 1189.0, 1202.0, 1160.0, 1081.0, 1295.0, 1295.0, 1114.0, 1249.0], \"xaxis\": \"x\", \"y\": [0.034, 0.037000000000000005, 0.054000000000000006, 0.054000000000000006, 0.02, 0.019, 0.027999999999999997, 0.04, 0.042, 0.071, 0.019, 0.027999999999999997, 0.048, 0.03, 0.035, 0.034, 0.057, 0.026000000000000002, 0.04, 0.051, 0.053, 0.02, 0.031, 0.07400000000000001, 0.036000000000000004, 0.037000000000000005, 0.035, 0.059000000000000004, 0.063, 0.040999999999999995, 0.043, 0.073, 0.05, 0.044000000000000004, 0.079, 0.023, 0.066, 0.051, 0.037000000000000005, 0.028999999999999998, 0.040999999999999995, 0.025, 0.025, 0.039, 0.025], \"yaxis\": \"y\"}, {\"hoverlabel\": {\"namelength\": 0}, \"hovertemplate\": \"<b>%{hovertext}</b><br><br>Minority_Serving=ANNHINANTI<br>SAT_AVG_ALL=%{x}<br>CDR3=%{y}<br>COSTT4_A=%{marker.size}\", \"hovertext\": [\"ANNHINANTI\", \"ANNHINANTI\"], \"legendgroup\": \"Minority_Serving=ANNHINANTI\", \"marker\": {\"color\": \"#FFA15A\", \"size\": [25064.0, 35200.0], \"sizemode\": \"area\", \"sizeref\": 157.7925, \"symbol\": \"circle\"}, \"mode\": \"markers\", \"name\": \"Minority_Serving=ANNHINANTI\", \"showlegend\": true, \"type\": \"scatter\", \"x\": [1123.0, 890.0], \"xaxis\": \"x\", \"y\": [0.102, 0.106], \"yaxis\": \"y\"}, {\"hoverlabel\": {\"namelength\": 0}, \"hovertemplate\": \"<b>%{hovertext}</b><br><br>Minority_Serving=PBIAANAPII<br>SAT_AVG_ALL=%{x}<br>CDR3=%{y}<br>COSTT4_A=%{marker.size}\", \"hovertext\": [\"PBIAANAPII\"], \"legendgroup\": \"Minority_Serving=PBIAANAPII\", \"marker\": {\"color\": \"#19d3f3\", \"size\": [24857.0], \"sizemode\": \"area\", \"sizeref\": 157.7925, \"symbol\": \"circle\"}, \"mode\": \"markers\", \"name\": \"Minority_Serving=PBIAANAPII\", \"showlegend\": true, \"type\": \"scatter\", \"x\": [1128.0], \"xaxis\": \"x\", \"y\": [0.096], \"yaxis\": \"y\"}, {\"hoverlabel\": {\"namelength\": 0}, \"hovertemplate\": \"<b>%{hovertext}</b><br><br>Minority_Serving=ANNHIAANAPII<br>SAT_AVG_ALL=%{x}<br>CDR3=%{y}<br>COSTT4_A=%{marker.size}\", \"hovertext\": [\"ANNHIAANAPII\"], \"legendgroup\": \"Minority_Serving=ANNHIAANAPII\", \"marker\": {\"color\": \"#FF6692\", \"size\": [21095.0], \"sizemode\": \"area\", \"sizeref\": 157.7925, \"symbol\": \"circle\"}, \"mode\": \"markers\", \"name\": \"Minority_Serving=ANNHIAANAPII\", \"showlegend\": true, \"type\": \"scatter\", \"x\": [1047.0], \"xaxis\": \"x\", \"y\": [0.075], \"yaxis\": \"y\"}],\n",
       "                        {\"height\": 600, \"legend\": {\"itemsizing\": \"constant\", \"tracegroupgap\": 0}, \"margin\": {\"t\": 60}, \"template\": {\"data\": {\"bar\": [{\"error_x\": {\"color\": \"#2a3f5f\"}, \"error_y\": {\"color\": \"#2a3f5f\"}, \"marker\": {\"line\": {\"color\": \"#E5ECF6\", \"width\": 0.5}}, \"type\": \"bar\"}], \"barpolar\": [{\"marker\": {\"line\": {\"color\": \"#E5ECF6\", \"width\": 0.5}}, \"type\": \"barpolar\"}], \"carpet\": [{\"aaxis\": {\"endlinecolor\": \"#2a3f5f\", \"gridcolor\": \"white\", \"linecolor\": \"white\", \"minorgridcolor\": \"white\", \"startlinecolor\": \"#2a3f5f\"}, \"baxis\": {\"endlinecolor\": \"#2a3f5f\", \"gridcolor\": \"white\", \"linecolor\": \"white\", \"minorgridcolor\": \"white\", \"startlinecolor\": \"#2a3f5f\"}, \"type\": \"carpet\"}], \"choropleth\": [{\"colorbar\": {\"outlinewidth\": 0, \"ticks\": \"\"}, \"type\": \"choropleth\"}], \"contour\": [{\"colorbar\": {\"outlinewidth\": 0, \"ticks\": \"\"}, \"colorscale\": [[0.0, \"#0d0887\"], [0.1111111111111111, \"#46039f\"], [0.2222222222222222, \"#7201a8\"], [0.3333333333333333, \"#9c179e\"], [0.4444444444444444, \"#bd3786\"], [0.5555555555555556, \"#d8576b\"], [0.6666666666666666, \"#ed7953\"], [0.7777777777777778, \"#fb9f3a\"], [0.8888888888888888, \"#fdca26\"], [1.0, \"#f0f921\"]], \"type\": \"contour\"}], \"contourcarpet\": [{\"colorbar\": {\"outlinewidth\": 0, \"ticks\": \"\"}, \"type\": \"contourcarpet\"}], \"heatmap\": [{\"colorbar\": {\"outlinewidth\": 0, \"ticks\": \"\"}, \"colorscale\": [[0.0, \"#0d0887\"], [0.1111111111111111, \"#46039f\"], [0.2222222222222222, \"#7201a8\"], [0.3333333333333333, \"#9c179e\"], [0.4444444444444444, \"#bd3786\"], [0.5555555555555556, \"#d8576b\"], [0.6666666666666666, \"#ed7953\"], [0.7777777777777778, \"#fb9f3a\"], [0.8888888888888888, \"#fdca26\"], [1.0, \"#f0f921\"]], \"type\": \"heatmap\"}], \"heatmapgl\": [{\"colorbar\": {\"outlinewidth\": 0, \"ticks\": \"\"}, \"colorscale\": [[0.0, \"#0d0887\"], [0.1111111111111111, \"#46039f\"], [0.2222222222222222, \"#7201a8\"], [0.3333333333333333, \"#9c179e\"], [0.4444444444444444, \"#bd3786\"], [0.5555555555555556, \"#d8576b\"], [0.6666666666666666, \"#ed7953\"], [0.7777777777777778, \"#fb9f3a\"], [0.8888888888888888, \"#fdca26\"], [1.0, \"#f0f921\"]], \"type\": \"heatmapgl\"}], \"histogram\": [{\"marker\": {\"colorbar\": {\"outlinewidth\": 0, \"ticks\": \"\"}}, \"type\": \"histogram\"}], \"histogram2d\": [{\"colorbar\": {\"outlinewidth\": 0, \"ticks\": \"\"}, \"colorscale\": [[0.0, \"#0d0887\"], [0.1111111111111111, \"#46039f\"], [0.2222222222222222, \"#7201a8\"], [0.3333333333333333, \"#9c179e\"], [0.4444444444444444, \"#bd3786\"], [0.5555555555555556, \"#d8576b\"], [0.6666666666666666, \"#ed7953\"], [0.7777777777777778, \"#fb9f3a\"], [0.8888888888888888, \"#fdca26\"], [1.0, \"#f0f921\"]], \"type\": \"histogram2d\"}], \"histogram2dcontour\": [{\"colorbar\": {\"outlinewidth\": 0, \"ticks\": \"\"}, \"colorscale\": [[0.0, \"#0d0887\"], [0.1111111111111111, \"#46039f\"], [0.2222222222222222, \"#7201a8\"], [0.3333333333333333, \"#9c179e\"], [0.4444444444444444, \"#bd3786\"], [0.5555555555555556, \"#d8576b\"], [0.6666666666666666, \"#ed7953\"], [0.7777777777777778, \"#fb9f3a\"], [0.8888888888888888, \"#fdca26\"], [1.0, \"#f0f921\"]], \"type\": \"histogram2dcontour\"}], \"mesh3d\": [{\"colorbar\": {\"outlinewidth\": 0, \"ticks\": \"\"}, \"type\": \"mesh3d\"}], \"parcoords\": [{\"line\": {\"colorbar\": {\"outlinewidth\": 0, \"ticks\": \"\"}}, \"type\": \"parcoords\"}], \"scatter\": [{\"marker\": {\"colorbar\": {\"outlinewidth\": 0, \"ticks\": \"\"}}, \"type\": \"scatter\"}], \"scatter3d\": [{\"line\": {\"colorbar\": {\"outlinewidth\": 0, \"ticks\": \"\"}}, \"marker\": {\"colorbar\": {\"outlinewidth\": 0, \"ticks\": \"\"}}, \"type\": \"scatter3d\"}], \"scattercarpet\": [{\"marker\": {\"colorbar\": {\"outlinewidth\": 0, \"ticks\": \"\"}}, \"type\": \"scattercarpet\"}], \"scattergeo\": [{\"marker\": {\"colorbar\": {\"outlinewidth\": 0, \"ticks\": \"\"}}, \"type\": \"scattergeo\"}], \"scattergl\": [{\"marker\": {\"colorbar\": {\"outlinewidth\": 0, \"ticks\": \"\"}}, \"type\": \"scattergl\"}], \"scattermapbox\": [{\"marker\": {\"colorbar\": {\"outlinewidth\": 0, \"ticks\": \"\"}}, \"type\": \"scattermapbox\"}], \"scatterpolar\": [{\"marker\": {\"colorbar\": {\"outlinewidth\": 0, \"ticks\": \"\"}}, \"type\": \"scatterpolar\"}], \"scatterpolargl\": [{\"marker\": {\"colorbar\": {\"outlinewidth\": 0, \"ticks\": \"\"}}, \"type\": \"scatterpolargl\"}], \"scatterternary\": [{\"marker\": {\"colorbar\": {\"outlinewidth\": 0, \"ticks\": \"\"}}, \"type\": \"scatterternary\"}], \"surface\": [{\"colorbar\": {\"outlinewidth\": 0, \"ticks\": \"\"}, \"colorscale\": [[0.0, \"#0d0887\"], [0.1111111111111111, \"#46039f\"], [0.2222222222222222, \"#7201a8\"], [0.3333333333333333, \"#9c179e\"], [0.4444444444444444, \"#bd3786\"], [0.5555555555555556, \"#d8576b\"], [0.6666666666666666, \"#ed7953\"], [0.7777777777777778, \"#fb9f3a\"], [0.8888888888888888, \"#fdca26\"], [1.0, \"#f0f921\"]], \"type\": \"surface\"}], \"table\": [{\"cells\": {\"fill\": {\"color\": \"#EBF0F8\"}, \"line\": {\"color\": \"white\"}}, \"header\": {\"fill\": {\"color\": \"#C8D4E3\"}, \"line\": {\"color\": \"white\"}}, \"type\": \"table\"}]}, \"layout\": {\"annotationdefaults\": {\"arrowcolor\": \"#2a3f5f\", \"arrowhead\": 0, \"arrowwidth\": 1}, \"colorscale\": {\"diverging\": [[0, \"#8e0152\"], [0.1, \"#c51b7d\"], [0.2, \"#de77ae\"], [0.3, \"#f1b6da\"], [0.4, \"#fde0ef\"], [0.5, \"#f7f7f7\"], [0.6, \"#e6f5d0\"], [0.7, \"#b8e186\"], [0.8, \"#7fbc41\"], [0.9, \"#4d9221\"], [1, \"#276419\"]], \"sequential\": [[0.0, \"#0d0887\"], [0.1111111111111111, \"#46039f\"], [0.2222222222222222, \"#7201a8\"], [0.3333333333333333, \"#9c179e\"], [0.4444444444444444, \"#bd3786\"], [0.5555555555555556, \"#d8576b\"], [0.6666666666666666, \"#ed7953\"], [0.7777777777777778, \"#fb9f3a\"], [0.8888888888888888, \"#fdca26\"], [1.0, \"#f0f921\"]], \"sequentialminus\": [[0.0, \"#0d0887\"], [0.1111111111111111, \"#46039f\"], [0.2222222222222222, \"#7201a8\"], [0.3333333333333333, \"#9c179e\"], [0.4444444444444444, \"#bd3786\"], [0.5555555555555556, \"#d8576b\"], [0.6666666666666666, \"#ed7953\"], [0.7777777777777778, \"#fb9f3a\"], [0.8888888888888888, \"#fdca26\"], [1.0, \"#f0f921\"]]}, \"colorway\": [\"#636efa\", \"#EF553B\", \"#00cc96\", \"#ab63fa\", \"#FFA15A\", \"#19d3f3\", \"#FF6692\", \"#B6E880\", \"#FF97FF\", \"#FECB52\"], \"font\": {\"color\": \"#2a3f5f\"}, \"geo\": {\"bgcolor\": \"white\", \"lakecolor\": \"white\", \"landcolor\": \"#E5ECF6\", \"showlakes\": true, \"showland\": true, \"subunitcolor\": \"white\"}, \"hoverlabel\": {\"align\": \"left\"}, \"hovermode\": \"closest\", \"mapbox\": {\"style\": \"light\"}, \"paper_bgcolor\": \"white\", \"plot_bgcolor\": \"#E5ECF6\", \"polar\": {\"angularaxis\": {\"gridcolor\": \"white\", \"linecolor\": \"white\", \"ticks\": \"\"}, \"bgcolor\": \"#E5ECF6\", \"radialaxis\": {\"gridcolor\": \"white\", \"linecolor\": \"white\", \"ticks\": \"\"}}, \"scene\": {\"xaxis\": {\"backgroundcolor\": \"#E5ECF6\", \"gridcolor\": \"white\", \"gridwidth\": 2, \"linecolor\": \"white\", \"showbackground\": true, \"ticks\": \"\", \"zerolinecolor\": \"white\"}, \"yaxis\": {\"backgroundcolor\": \"#E5ECF6\", \"gridcolor\": \"white\", \"gridwidth\": 2, \"linecolor\": \"white\", \"showbackground\": true, \"ticks\": \"\", \"zerolinecolor\": \"white\"}, \"zaxis\": {\"backgroundcolor\": \"#E5ECF6\", \"gridcolor\": \"white\", \"gridwidth\": 2, \"linecolor\": \"white\", \"showbackground\": true, \"ticks\": \"\", \"zerolinecolor\": \"white\"}}, \"shapedefaults\": {\"line\": {\"color\": \"#2a3f5f\"}}, \"ternary\": {\"aaxis\": {\"gridcolor\": \"white\", \"linecolor\": \"white\", \"ticks\": \"\"}, \"baxis\": {\"gridcolor\": \"white\", \"linecolor\": \"white\", \"ticks\": \"\"}, \"bgcolor\": \"#E5ECF6\", \"caxis\": {\"gridcolor\": \"white\", \"linecolor\": \"white\", \"ticks\": \"\"}}, \"title\": {\"x\": 0.05}, \"xaxis\": {\"automargin\": true, \"gridcolor\": \"white\", \"linecolor\": \"white\", \"ticks\": \"\", \"zerolinecolor\": \"white\", \"zerolinewidth\": 2}, \"yaxis\": {\"automargin\": true, \"gridcolor\": \"white\", \"linecolor\": \"white\", \"ticks\": \"\", \"zerolinecolor\": \"white\", \"zerolinewidth\": 2}}}, \"xaxis\": {\"anchor\": \"y\", \"domain\": [0.0, 0.98], \"title\": {\"text\": \"SAT_AVG_ALL\"}}, \"yaxis\": {\"anchor\": \"x\", \"domain\": [0.0, 1.0], \"title\": {\"text\": \"CDR3\"}}},\n",
       "                        {\"responsive\": true}\n",
       "                    ).then(function(){\n",
       "                            \n",
       "var gd = document.getElementById('0b860269-b22b-4b16-8571-c804a22f7122');\n",
       "var x = new MutationObserver(function (mutations, observer) {{\n",
       "        var display = window.getComputedStyle(gd).display;\n",
       "        if (!display || display === 'none') {{\n",
       "            console.log([gd, 'removed!']);\n",
       "            Plotly.purge(gd);\n",
       "            observer.disconnect();\n",
       "        }}\n",
       "}});\n",
       "\n",
       "// Listen for the removal of the full notebook cells\n",
       "var notebookContainer = gd.closest('#notebook-container');\n",
       "if (notebookContainer) {{\n",
       "    x.observe(notebookContainer, {childList: true});\n",
       "}}\n",
       "\n",
       "// Listen for the clearing of the current output cell\n",
       "var outputEl = gd.closest('.output');\n",
       "if (outputEl) {{\n",
       "    x.observe(outputEl, {childList: true});\n",
       "}}\n",
       "\n",
       "                        })\n",
       "                };\n",
       "                });\n",
       "            </script>\n",
       "        </div>"
      ]
     },
     "metadata": {},
     "output_type": "display_data"
    }
   ],
   "source": [
    "# animated plot (unfortunately only 1 year of minority values)\n",
    "# px.scatter(df_minority, x='SAT_AVG_ALL', y='CDR3', animation_frame='Year', animation_group='Minority_Serving',\n",
    "#            size='COSTT4_A', color='Minority_Serving', hover_name='Minority_Serving')\n",
    "\n",
    "#scatter plot--minority serving schools\n",
    "px.scatter(df_minority, x='SAT_AVG_ALL', y='CDR3',\n",
    "           size='COSTT4_A', color='Minority_Serving', hover_name='Minority_Serving')"
   ]
  },
  {
   "cell_type": "code",
   "execution_count": 136,
   "metadata": {
    "colab": {
     "base_uri": "https://localhost:8080/",
     "height": 617,
     "output_embedded_package_id": "1oiQnexDUR6iiTPzNxcH24STGGaqiscDW"
    },
    "colab_type": "code",
    "executionInfo": {
     "elapsed": 6250,
     "status": "ok",
     "timestamp": 1564702256876,
     "user": {
      "displayName": "Andrew Morrison",
      "photoUrl": "https://lh4.googleusercontent.com/-_lkTUhg-8SQ/AAAAAAAAAAI/AAAAAAAAABg/y-T98PhrCvg/s64/photo.jpg",
      "userId": "11988037290830881799"
     },
     "user_tz": 420
    },
    "id": "r6RTfAYrgXwH",
    "outputId": "303edfbe-f776-4299-cad7-418f6e622c03",
    "scrolled": false
   },
   "outputs": [
    {
     "data": {
      "application/vnd.plotly.v1+json": {
       "config": {
        "plotlyServerURL": "https://plot.ly"
       },
       "data": [
        {
         "hoverlabel": {
          "namelength": 0
         },
         "hovertemplate": "Avg Faculty Salary=%{x}<br>SAT Avg=%{y}<br>3 yr default rate=%{z}<br>REGION=%{marker.color}",
         "legendgroup": "",
         "marker": {
          "color": [
           5,
           5,
           5,
           5,
           5,
           5,
           8,
           5,
           8,
           8,
           8,
           8,
           8,
           8,
           8,
           8,
           8,
           8,
           8,
           8,
           8,
           8,
           8,
           8,
           7,
           2,
           2,
           5,
           5,
           5,
           5,
           5,
           5,
           5,
           5,
           5,
           8,
           8,
           8,
           8,
           8,
           3,
           3,
           3,
           3,
           5,
           5,
           5,
           5,
           5,
           2,
           2,
           2,
           2,
           2,
           2,
           2,
           1,
           3,
           4,
           4,
           5,
           5,
           5,
           5,
           8,
           2,
           2,
           2,
           2,
           2,
           2,
           2,
           2,
           2,
           2,
           2,
           2,
           2,
           2,
           5,
           5,
           5,
           5,
           5,
           5,
           5,
           5,
           5,
           5,
           5,
           3,
           3,
           6,
           8,
           8,
           2,
           2,
           5,
           5,
           5,
           5,
           5,
           5,
           5,
           6,
           6,
           6,
           6,
           6,
           6,
           5,
           5,
           5,
           5,
           8,
           5,
           5,
           9,
           5,
           8,
           8,
           8,
           5,
           1
          ],
          "coloraxis": "coloraxis",
          "symbol": "circle"
         },
         "mode": "markers",
         "name": "",
         "scene": "scene",
         "showlegend": false,
         "type": "scatter3d",
         "x": [
          6983,
          7399,
          5702,
          6711,
          4902,
          4753,
          9617,
          5851,
          8201,
          10273,
          9575,
          9477,
          14048,
          14989,
          12934,
          7523,
          8937,
          6099,
          10575,
          10605,
          10411,
          13405,
          10325,
          10170,
          7137,
          8017,
          7161,
          5092,
          8077,
          6946,
          5941,
          8775,
          6417,
          4741,
          5829,
          8219,
          7955,
          9638,
          11786,
          8566,
          9262,
          7288,
          6644,
          11177,
          5128,
          6321,
          6166,
          7136,
          5973,
          8650,
          10431,
          8561,
          5439,
          7680,
          9982,
          8235,
          8799,
          10965,
          4805,
          11759,
          7200,
          6707,
          7246,
          5731,
          4974,
          10544,
          8373,
          13595,
          12223,
          13272,
          11407,
          12370,
          11961,
          11177,
          10481,
          11102,
          6505,
          11792,
          12336,
          8355,
          4738,
          6922,
          7744,
          8611,
          6298,
          5157,
          8929,
          8178,
          5987,
          5373,
          8218,
          6550,
          4946,
          4103,
          8175,
          9173,
          8561,
          8109,
          6980,
          5145,
          7226,
          6818,
          5525,
          5091,
          4831,
          11419,
          5306,
          5533,
          7653,
          7585,
          7650,
          6747,
          8260,
          7470,
          4285,
          6624,
          6645,
          6020,
          6746,
          5030,
          10695,
          9772,
          10552,
          4155,
          13103
         ],
         "y": [
          929,
          935,
          1031,
          1041,
          1005,
          1036,
          1094,
          951,
          1131,
          1129,
          968,
          1036,
          1286,
          1291,
          1215,
          857,
          1013,
          1055,
          1220,
          1206,
          1054,
          1203,
          1110,
          1170,
          1123,
          918,
          1201,
          885,
          1044,
          1000,
          564,
          1128,
          1050,
          850,
          933,
          1163,
          1068,
          1047,
          1154,
          1110,
          966,
          952,
          910,
          1150,
          886,
          982,
          1009,
          988,
          890,
          1126,
          999,
          950,
          957,
          930,
          1255,
          950,
          977,
          1134,
          1203,
          1344,
          1146,
          1005,
          990,
          930,
          1025,
          1100,
          934,
          1238,
          1164,
          1270,
          1130,
          1140,
          1205,
          1140,
          960,
          1141,
          982,
          1139,
          1171,
          1028,
          851,
          859,
          936,
          955,
          868,
          822,
          1010,
          967,
          967,
          834,
          943,
          868,
          872,
          890,
          1180,
          1105,
          970,
          1189,
          958,
          1019,
          898,
          1155,
          1014,
          845,
          845,
          1202,
          947,
          843,
          956,
          1160,
          846,
          1083,
          946,
          914,
          922,
          1081,
          994,
          1007,
          913,
          1128,
          1295,
          1295,
          1114,
          1017,
          1249
         ],
         "z": [
          0.198,
          0.21100000000000002,
          0.122,
          0.078,
          0.13699999999999998,
          0.115,
          0.122,
          0.141,
          0.034,
          0.037000000000000005,
          0.054000000000000006,
          0.054000000000000006,
          0.02,
          0.019,
          0.027999999999999997,
          0.04,
          0.042,
          0.071,
          0.019,
          0.027999999999999997,
          0.048,
          0.03,
          0.035,
          0.034,
          0.102,
          0.133,
          0.078,
          0.217,
          0.095,
          0.12,
          0.142,
          0.096,
          0.134,
          0.282,
          0.185,
          0.05,
          0.055999999999999994,
          0.075,
          0.042,
          0.057,
          0.047,
          0.12,
          0.272,
          0.026000000000000002,
          0.073,
          0.172,
          0.134,
          0.08800000000000001,
          0.162,
          0.08,
          0.08199999999999999,
          0.11800000000000001,
          0.105,
          0.17,
          0.04,
          0.13,
          0.159,
          0.051,
          0.053,
          0.02,
          0.031,
          0.195,
          0.14400000000000002,
          0.18899999999999997,
          0.192,
          0.07400000000000001,
          0.145,
          0.036000000000000004,
          0.037000000000000005,
          0.035,
          0.059000000000000004,
          0.063,
          0.040999999999999995,
          0.043,
          0.061,
          0.073,
          0.126,
          0.05,
          0.044000000000000004,
          0.079,
          0.136,
          0.17,
          0.135,
          0.11,
          0.19,
          0.287,
          0.106,
          0.083,
          0.158,
          0.235,
          0.127,
          0.278,
          0.22399999999999998,
          0.106,
          0.023,
          0.066,
          0.135,
          0.051,
          0.084,
          0.11,
          0.125,
          0.04,
          0.121,
          0.125,
          0.204,
          0.037000000000000005,
          0.192,
          0.205,
          0.124,
          0.028999999999999998,
          0.08800000000000001,
          0.07200000000000001,
          0.115,
          0.162,
          0.154,
          0.040999999999999995,
          0.204,
          0.171,
          0.131,
          0.096,
          0.025,
          0.025,
          0.039,
          0.098,
          0.025
         ]
        }
       ],
       "layout": {
        "coloraxis": {
         "colorbar": {
          "title": {
           "text": "REGION"
          }
         },
         "colorscale": [
          [
           0,
           "#0d0887"
          ],
          [
           0.1111111111111111,
           "#46039f"
          ],
          [
           0.2222222222222222,
           "#7201a8"
          ],
          [
           0.3333333333333333,
           "#9c179e"
          ],
          [
           0.4444444444444444,
           "#bd3786"
          ],
          [
           0.5555555555555556,
           "#d8576b"
          ],
          [
           0.6666666666666666,
           "#ed7953"
          ],
          [
           0.7777777777777778,
           "#fb9f3a"
          ],
          [
           0.8888888888888888,
           "#fdca26"
          ],
          [
           1,
           "#f0f921"
          ]
         ]
        },
        "height": 600,
        "legend": {
         "tracegroupgap": 0
        },
        "margin": {
         "t": 60
        },
        "scene": {
         "domain": {
          "x": [
           0,
           0.98
          ],
          "y": [
           0,
           1
          ]
         },
         "xaxis": {
          "title": {
           "text": "Avg Faculty Salary"
          }
         },
         "yaxis": {
          "title": {
           "text": "SAT Avg"
          }
         },
         "zaxis": {
          "title": {
           "text": "3 yr default rate"
          }
         }
        },
        "template": {
         "data": {
          "bar": [
           {
            "error_x": {
             "color": "#2a3f5f"
            },
            "error_y": {
             "color": "#2a3f5f"
            },
            "marker": {
             "line": {
              "color": "#E5ECF6",
              "width": 0.5
             }
            },
            "type": "bar"
           }
          ],
          "barpolar": [
           {
            "marker": {
             "line": {
              "color": "#E5ECF6",
              "width": 0.5
             }
            },
            "type": "barpolar"
           }
          ],
          "carpet": [
           {
            "aaxis": {
             "endlinecolor": "#2a3f5f",
             "gridcolor": "white",
             "linecolor": "white",
             "minorgridcolor": "white",
             "startlinecolor": "#2a3f5f"
            },
            "baxis": {
             "endlinecolor": "#2a3f5f",
             "gridcolor": "white",
             "linecolor": "white",
             "minorgridcolor": "white",
             "startlinecolor": "#2a3f5f"
            },
            "type": "carpet"
           }
          ],
          "choropleth": [
           {
            "colorbar": {
             "outlinewidth": 0,
             "ticks": ""
            },
            "type": "choropleth"
           }
          ],
          "contour": [
           {
            "colorbar": {
             "outlinewidth": 0,
             "ticks": ""
            },
            "colorscale": [
             [
              0,
              "#0d0887"
             ],
             [
              0.1111111111111111,
              "#46039f"
             ],
             [
              0.2222222222222222,
              "#7201a8"
             ],
             [
              0.3333333333333333,
              "#9c179e"
             ],
             [
              0.4444444444444444,
              "#bd3786"
             ],
             [
              0.5555555555555556,
              "#d8576b"
             ],
             [
              0.6666666666666666,
              "#ed7953"
             ],
             [
              0.7777777777777778,
              "#fb9f3a"
             ],
             [
              0.8888888888888888,
              "#fdca26"
             ],
             [
              1,
              "#f0f921"
             ]
            ],
            "type": "contour"
           }
          ],
          "contourcarpet": [
           {
            "colorbar": {
             "outlinewidth": 0,
             "ticks": ""
            },
            "type": "contourcarpet"
           }
          ],
          "heatmap": [
           {
            "colorbar": {
             "outlinewidth": 0,
             "ticks": ""
            },
            "colorscale": [
             [
              0,
              "#0d0887"
             ],
             [
              0.1111111111111111,
              "#46039f"
             ],
             [
              0.2222222222222222,
              "#7201a8"
             ],
             [
              0.3333333333333333,
              "#9c179e"
             ],
             [
              0.4444444444444444,
              "#bd3786"
             ],
             [
              0.5555555555555556,
              "#d8576b"
             ],
             [
              0.6666666666666666,
              "#ed7953"
             ],
             [
              0.7777777777777778,
              "#fb9f3a"
             ],
             [
              0.8888888888888888,
              "#fdca26"
             ],
             [
              1,
              "#f0f921"
             ]
            ],
            "type": "heatmap"
           }
          ],
          "heatmapgl": [
           {
            "colorbar": {
             "outlinewidth": 0,
             "ticks": ""
            },
            "colorscale": [
             [
              0,
              "#0d0887"
             ],
             [
              0.1111111111111111,
              "#46039f"
             ],
             [
              0.2222222222222222,
              "#7201a8"
             ],
             [
              0.3333333333333333,
              "#9c179e"
             ],
             [
              0.4444444444444444,
              "#bd3786"
             ],
             [
              0.5555555555555556,
              "#d8576b"
             ],
             [
              0.6666666666666666,
              "#ed7953"
             ],
             [
              0.7777777777777778,
              "#fb9f3a"
             ],
             [
              0.8888888888888888,
              "#fdca26"
             ],
             [
              1,
              "#f0f921"
             ]
            ],
            "type": "heatmapgl"
           }
          ],
          "histogram": [
           {
            "marker": {
             "colorbar": {
              "outlinewidth": 0,
              "ticks": ""
             }
            },
            "type": "histogram"
           }
          ],
          "histogram2d": [
           {
            "colorbar": {
             "outlinewidth": 0,
             "ticks": ""
            },
            "colorscale": [
             [
              0,
              "#0d0887"
             ],
             [
              0.1111111111111111,
              "#46039f"
             ],
             [
              0.2222222222222222,
              "#7201a8"
             ],
             [
              0.3333333333333333,
              "#9c179e"
             ],
             [
              0.4444444444444444,
              "#bd3786"
             ],
             [
              0.5555555555555556,
              "#d8576b"
             ],
             [
              0.6666666666666666,
              "#ed7953"
             ],
             [
              0.7777777777777778,
              "#fb9f3a"
             ],
             [
              0.8888888888888888,
              "#fdca26"
             ],
             [
              1,
              "#f0f921"
             ]
            ],
            "type": "histogram2d"
           }
          ],
          "histogram2dcontour": [
           {
            "colorbar": {
             "outlinewidth": 0,
             "ticks": ""
            },
            "colorscale": [
             [
              0,
              "#0d0887"
             ],
             [
              0.1111111111111111,
              "#46039f"
             ],
             [
              0.2222222222222222,
              "#7201a8"
             ],
             [
              0.3333333333333333,
              "#9c179e"
             ],
             [
              0.4444444444444444,
              "#bd3786"
             ],
             [
              0.5555555555555556,
              "#d8576b"
             ],
             [
              0.6666666666666666,
              "#ed7953"
             ],
             [
              0.7777777777777778,
              "#fb9f3a"
             ],
             [
              0.8888888888888888,
              "#fdca26"
             ],
             [
              1,
              "#f0f921"
             ]
            ],
            "type": "histogram2dcontour"
           }
          ],
          "mesh3d": [
           {
            "colorbar": {
             "outlinewidth": 0,
             "ticks": ""
            },
            "type": "mesh3d"
           }
          ],
          "parcoords": [
           {
            "line": {
             "colorbar": {
              "outlinewidth": 0,
              "ticks": ""
             }
            },
            "type": "parcoords"
           }
          ],
          "scatter": [
           {
            "marker": {
             "colorbar": {
              "outlinewidth": 0,
              "ticks": ""
             }
            },
            "type": "scatter"
           }
          ],
          "scatter3d": [
           {
            "line": {
             "colorbar": {
              "outlinewidth": 0,
              "ticks": ""
             }
            },
            "marker": {
             "colorbar": {
              "outlinewidth": 0,
              "ticks": ""
             }
            },
            "type": "scatter3d"
           }
          ],
          "scattercarpet": [
           {
            "marker": {
             "colorbar": {
              "outlinewidth": 0,
              "ticks": ""
             }
            },
            "type": "scattercarpet"
           }
          ],
          "scattergeo": [
           {
            "marker": {
             "colorbar": {
              "outlinewidth": 0,
              "ticks": ""
             }
            },
            "type": "scattergeo"
           }
          ],
          "scattergl": [
           {
            "marker": {
             "colorbar": {
              "outlinewidth": 0,
              "ticks": ""
             }
            },
            "type": "scattergl"
           }
          ],
          "scattermapbox": [
           {
            "marker": {
             "colorbar": {
              "outlinewidth": 0,
              "ticks": ""
             }
            },
            "type": "scattermapbox"
           }
          ],
          "scatterpolar": [
           {
            "marker": {
             "colorbar": {
              "outlinewidth": 0,
              "ticks": ""
             }
            },
            "type": "scatterpolar"
           }
          ],
          "scatterpolargl": [
           {
            "marker": {
             "colorbar": {
              "outlinewidth": 0,
              "ticks": ""
             }
            },
            "type": "scatterpolargl"
           }
          ],
          "scatterternary": [
           {
            "marker": {
             "colorbar": {
              "outlinewidth": 0,
              "ticks": ""
             }
            },
            "type": "scatterternary"
           }
          ],
          "surface": [
           {
            "colorbar": {
             "outlinewidth": 0,
             "ticks": ""
            },
            "colorscale": [
             [
              0,
              "#0d0887"
             ],
             [
              0.1111111111111111,
              "#46039f"
             ],
             [
              0.2222222222222222,
              "#7201a8"
             ],
             [
              0.3333333333333333,
              "#9c179e"
             ],
             [
              0.4444444444444444,
              "#bd3786"
             ],
             [
              0.5555555555555556,
              "#d8576b"
             ],
             [
              0.6666666666666666,
              "#ed7953"
             ],
             [
              0.7777777777777778,
              "#fb9f3a"
             ],
             [
              0.8888888888888888,
              "#fdca26"
             ],
             [
              1,
              "#f0f921"
             ]
            ],
            "type": "surface"
           }
          ],
          "table": [
           {
            "cells": {
             "fill": {
              "color": "#EBF0F8"
             },
             "line": {
              "color": "white"
             }
            },
            "header": {
             "fill": {
              "color": "#C8D4E3"
             },
             "line": {
              "color": "white"
             }
            },
            "type": "table"
           }
          ]
         },
         "layout": {
          "annotationdefaults": {
           "arrowcolor": "#2a3f5f",
           "arrowhead": 0,
           "arrowwidth": 1
          },
          "colorscale": {
           "diverging": [
            [
             0,
             "#8e0152"
            ],
            [
             0.1,
             "#c51b7d"
            ],
            [
             0.2,
             "#de77ae"
            ],
            [
             0.3,
             "#f1b6da"
            ],
            [
             0.4,
             "#fde0ef"
            ],
            [
             0.5,
             "#f7f7f7"
            ],
            [
             0.6,
             "#e6f5d0"
            ],
            [
             0.7,
             "#b8e186"
            ],
            [
             0.8,
             "#7fbc41"
            ],
            [
             0.9,
             "#4d9221"
            ],
            [
             1,
             "#276419"
            ]
           ],
           "sequential": [
            [
             0,
             "#0d0887"
            ],
            [
             0.1111111111111111,
             "#46039f"
            ],
            [
             0.2222222222222222,
             "#7201a8"
            ],
            [
             0.3333333333333333,
             "#9c179e"
            ],
            [
             0.4444444444444444,
             "#bd3786"
            ],
            [
             0.5555555555555556,
             "#d8576b"
            ],
            [
             0.6666666666666666,
             "#ed7953"
            ],
            [
             0.7777777777777778,
             "#fb9f3a"
            ],
            [
             0.8888888888888888,
             "#fdca26"
            ],
            [
             1,
             "#f0f921"
            ]
           ],
           "sequentialminus": [
            [
             0,
             "#0d0887"
            ],
            [
             0.1111111111111111,
             "#46039f"
            ],
            [
             0.2222222222222222,
             "#7201a8"
            ],
            [
             0.3333333333333333,
             "#9c179e"
            ],
            [
             0.4444444444444444,
             "#bd3786"
            ],
            [
             0.5555555555555556,
             "#d8576b"
            ],
            [
             0.6666666666666666,
             "#ed7953"
            ],
            [
             0.7777777777777778,
             "#fb9f3a"
            ],
            [
             0.8888888888888888,
             "#fdca26"
            ],
            [
             1,
             "#f0f921"
            ]
           ]
          },
          "colorway": [
           "#636efa",
           "#EF553B",
           "#00cc96",
           "#ab63fa",
           "#FFA15A",
           "#19d3f3",
           "#FF6692",
           "#B6E880",
           "#FF97FF",
           "#FECB52"
          ],
          "font": {
           "color": "#2a3f5f"
          },
          "geo": {
           "bgcolor": "white",
           "lakecolor": "white",
           "landcolor": "#E5ECF6",
           "showlakes": true,
           "showland": true,
           "subunitcolor": "white"
          },
          "hoverlabel": {
           "align": "left"
          },
          "hovermode": "closest",
          "mapbox": {
           "style": "light"
          },
          "paper_bgcolor": "white",
          "plot_bgcolor": "#E5ECF6",
          "polar": {
           "angularaxis": {
            "gridcolor": "white",
            "linecolor": "white",
            "ticks": ""
           },
           "bgcolor": "#E5ECF6",
           "radialaxis": {
            "gridcolor": "white",
            "linecolor": "white",
            "ticks": ""
           }
          },
          "scene": {
           "xaxis": {
            "backgroundcolor": "#E5ECF6",
            "gridcolor": "white",
            "gridwidth": 2,
            "linecolor": "white",
            "showbackground": true,
            "ticks": "",
            "zerolinecolor": "white"
           },
           "yaxis": {
            "backgroundcolor": "#E5ECF6",
            "gridcolor": "white",
            "gridwidth": 2,
            "linecolor": "white",
            "showbackground": true,
            "ticks": "",
            "zerolinecolor": "white"
           },
           "zaxis": {
            "backgroundcolor": "#E5ECF6",
            "gridcolor": "white",
            "gridwidth": 2,
            "linecolor": "white",
            "showbackground": true,
            "ticks": "",
            "zerolinecolor": "white"
           }
          },
          "shapedefaults": {
           "line": {
            "color": "#2a3f5f"
           }
          },
          "ternary": {
           "aaxis": {
            "gridcolor": "white",
            "linecolor": "white",
            "ticks": ""
           },
           "baxis": {
            "gridcolor": "white",
            "linecolor": "white",
            "ticks": ""
           },
           "bgcolor": "#E5ECF6",
           "caxis": {
            "gridcolor": "white",
            "linecolor": "white",
            "ticks": ""
           }
          },
          "title": {
           "x": 0.05
          },
          "xaxis": {
           "automargin": true,
           "gridcolor": "white",
           "linecolor": "white",
           "ticks": "",
           "zerolinecolor": "white",
           "zerolinewidth": 2
          },
          "yaxis": {
           "automargin": true,
           "gridcolor": "white",
           "linecolor": "white",
           "ticks": "",
           "zerolinecolor": "white",
           "zerolinewidth": 2
          }
         }
        }
       }
      },
      "text/html": [
       "<div>\n",
       "        \n",
       "        \n",
       "            <div id=\"c4e6e5db-1789-49ed-83d9-872b02da4138\" class=\"plotly-graph-div\" style=\"height:600px; width:100%;\"></div>\n",
       "            <script type=\"text/javascript\">\n",
       "                require([\"plotly\"], function(Plotly) {\n",
       "                    window.PLOTLYENV=window.PLOTLYENV || {};\n",
       "                    \n",
       "                if (document.getElementById(\"c4e6e5db-1789-49ed-83d9-872b02da4138\")) {\n",
       "                    Plotly.newPlot(\n",
       "                        'c4e6e5db-1789-49ed-83d9-872b02da4138',\n",
       "                        [{\"hoverlabel\": {\"namelength\": 0}, \"hovertemplate\": \"Avg Faculty Salary=%{x}<br>SAT Avg=%{y}<br>3 yr default rate=%{z}<br>REGION=%{marker.color}\", \"legendgroup\": \"\", \"marker\": {\"color\": [5.0, 5.0, 5.0, 5.0, 5.0, 5.0, 8.0, 5.0, 8.0, 8.0, 8.0, 8.0, 8.0, 8.0, 8.0, 8.0, 8.0, 8.0, 8.0, 8.0, 8.0, 8.0, 8.0, 8.0, 7.0, 2.0, 2.0, 5.0, 5.0, 5.0, 5.0, 5.0, 5.0, 5.0, 5.0, 5.0, 8.0, 8.0, 8.0, 8.0, 8.0, 3.0, 3.0, 3.0, 3.0, 5.0, 5.0, 5.0, 5.0, 5.0, 2.0, 2.0, 2.0, 2.0, 2.0, 2.0, 2.0, 1.0, 3.0, 4.0, 4.0, 5.0, 5.0, 5.0, 5.0, 8.0, 2.0, 2.0, 2.0, 2.0, 2.0, 2.0, 2.0, 2.0, 2.0, 2.0, 2.0, 2.0, 2.0, 2.0, 5.0, 5.0, 5.0, 5.0, 5.0, 5.0, 5.0, 5.0, 5.0, 5.0, 5.0, 3.0, 3.0, 6.0, 8.0, 8.0, 2.0, 2.0, 5.0, 5.0, 5.0, 5.0, 5.0, 5.0, 5.0, 6.0, 6.0, 6.0, 6.0, 6.0, 6.0, 5.0, 5.0, 5.0, 5.0, 8.0, 5.0, 5.0, 9.0, 5.0, 8.0, 8.0, 8.0, 5.0, 1.0], \"coloraxis\": \"coloraxis\", \"symbol\": \"circle\"}, \"mode\": \"markers\", \"name\": \"\", \"scene\": \"scene\", \"showlegend\": false, \"type\": \"scatter3d\", \"x\": [6983.0, 7399.0, 5702.0, 6711.0, 4902.0, 4753.0, 9617.0, 5851.0, 8201.0, 10273.0, 9575.0, 9477.0, 14048.0, 14989.0, 12934.0, 7523.0, 8937.0, 6099.0, 10575.0, 10605.0, 10411.0, 13405.0, 10325.0, 10170.0, 7137.0, 8017.0, 7161.0, 5092.0, 8077.0, 6946.0, 5941.0, 8775.0, 6417.0, 4741.0, 5829.0, 8219.0, 7955.0, 9638.0, 11786.0, 8566.0, 9262.0, 7288.0, 6644.0, 11177.0, 5128.0, 6321.0, 6166.0, 7136.0, 5973.0, 8650.0, 10431.0, 8561.0, 5439.0, 7680.0, 9982.0, 8235.0, 8799.0, 10965.0, 4805.0, 11759.0, 7200.0, 6707.0, 7246.0, 5731.0, 4974.0, 10544.0, 8373.0, 13595.0, 12223.0, 13272.0, 11407.0, 12370.0, 11961.0, 11177.0, 10481.0, 11102.0, 6505.0, 11792.0, 12336.0, 8355.0, 4738.0, 6922.0, 7744.0, 8611.0, 6298.0, 5157.0, 8929.0, 8178.0, 5987.0, 5373.0, 8218.0, 6550.0, 4946.0, 4103.0, 8175.0, 9173.0, 8561.0, 8109.0, 6980.0, 5145.0, 7226.0, 6818.0, 5525.0, 5091.0, 4831.0, 11419.0, 5306.0, 5533.0, 7653.0, 7585.0, 7650.0, 6747.0, 8260.0, 7470.0, 4285.0, 6624.0, 6645.0, 6020.0, 6746.0, 5030.0, 10695.0, 9772.0, 10552.0, 4155.0, 13103.0], \"y\": [929.0, 935.0, 1031.0, 1041.0, 1005.0, 1036.0, 1094.0, 951.0, 1131.0, 1129.0, 968.0, 1036.0, 1286.0, 1291.0, 1215.0, 857.0, 1013.0, 1055.0, 1220.0, 1206.0, 1054.0, 1203.0, 1110.0, 1170.0, 1123.0, 918.0, 1201.0, 885.0, 1044.0, 1000.0, 564.0, 1128.0, 1050.0, 850.0, 933.0, 1163.0, 1068.0, 1047.0, 1154.0, 1110.0, 966.0, 952.0, 910.0, 1150.0, 886.0, 982.0, 1009.0, 988.0, 890.0, 1126.0, 999.0, 950.0, 957.0, 930.0, 1255.0, 950.0, 977.0, 1134.0, 1203.0, 1344.0, 1146.0, 1005.0, 990.0, 930.0, 1025.0, 1100.0, 934.0, 1238.0, 1164.0, 1270.0, 1130.0, 1140.0, 1205.0, 1140.0, 960.0, 1141.0, 982.0, 1139.0, 1171.0, 1028.0, 851.0, 859.0, 936.0, 955.0, 868.0, 822.0, 1010.0, 967.0, 967.0, 834.0, 943.0, 868.0, 872.0, 890.0, 1180.0, 1105.0, 970.0, 1189.0, 958.0, 1019.0, 898.0, 1155.0, 1014.0, 845.0, 845.0, 1202.0, 947.0, 843.0, 956.0, 1160.0, 846.0, 1083.0, 946.0, 914.0, 922.0, 1081.0, 994.0, 1007.0, 913.0, 1128.0, 1295.0, 1295.0, 1114.0, 1017.0, 1249.0], \"z\": [0.198, 0.21100000000000002, 0.122, 0.078, 0.13699999999999998, 0.115, 0.122, 0.141, 0.034, 0.037000000000000005, 0.054000000000000006, 0.054000000000000006, 0.02, 0.019, 0.027999999999999997, 0.04, 0.042, 0.071, 0.019, 0.027999999999999997, 0.048, 0.03, 0.035, 0.034, 0.102, 0.133, 0.078, 0.217, 0.095, 0.12, 0.142, 0.096, 0.134, 0.282, 0.185, 0.05, 0.055999999999999994, 0.075, 0.042, 0.057, 0.047, 0.12, 0.272, 0.026000000000000002, 0.073, 0.172, 0.134, 0.08800000000000001, 0.162, 0.08, 0.08199999999999999, 0.11800000000000001, 0.105, 0.17, 0.04, 0.13, 0.159, 0.051, 0.053, 0.02, 0.031, 0.195, 0.14400000000000002, 0.18899999999999997, 0.192, 0.07400000000000001, 0.145, 0.036000000000000004, 0.037000000000000005, 0.035, 0.059000000000000004, 0.063, 0.040999999999999995, 0.043, 0.061, 0.073, 0.126, 0.05, 0.044000000000000004, 0.079, 0.136, 0.17, 0.135, 0.11, 0.19, 0.287, 0.106, 0.083, 0.158, 0.235, 0.127, 0.278, 0.22399999999999998, 0.106, 0.023, 0.066, 0.135, 0.051, 0.084, 0.11, 0.125, 0.04, 0.121, 0.125, 0.204, 0.037000000000000005, 0.192, 0.205, 0.124, 0.028999999999999998, 0.08800000000000001, 0.07200000000000001, 0.115, 0.162, 0.154, 0.040999999999999995, 0.204, 0.171, 0.131, 0.096, 0.025, 0.025, 0.039, 0.098, 0.025]}],\n",
       "                        {\"coloraxis\": {\"colorbar\": {\"title\": {\"text\": \"REGION\"}}, \"colorscale\": [[0.0, \"#0d0887\"], [0.1111111111111111, \"#46039f\"], [0.2222222222222222, \"#7201a8\"], [0.3333333333333333, \"#9c179e\"], [0.4444444444444444, \"#bd3786\"], [0.5555555555555556, \"#d8576b\"], [0.6666666666666666, \"#ed7953\"], [0.7777777777777778, \"#fb9f3a\"], [0.8888888888888888, \"#fdca26\"], [1.0, \"#f0f921\"]]}, \"height\": 600, \"legend\": {\"tracegroupgap\": 0}, \"margin\": {\"t\": 60}, \"scene\": {\"domain\": {\"x\": [0.0, 0.98], \"y\": [0.0, 1.0]}, \"xaxis\": {\"title\": {\"text\": \"Avg Faculty Salary\"}}, \"yaxis\": {\"title\": {\"text\": \"SAT Avg\"}}, \"zaxis\": {\"title\": {\"text\": \"3 yr default rate\"}}}, \"template\": {\"data\": {\"bar\": [{\"error_x\": {\"color\": \"#2a3f5f\"}, \"error_y\": {\"color\": \"#2a3f5f\"}, \"marker\": {\"line\": {\"color\": \"#E5ECF6\", \"width\": 0.5}}, \"type\": \"bar\"}], \"barpolar\": [{\"marker\": {\"line\": {\"color\": \"#E5ECF6\", \"width\": 0.5}}, \"type\": \"barpolar\"}], \"carpet\": [{\"aaxis\": {\"endlinecolor\": \"#2a3f5f\", \"gridcolor\": \"white\", \"linecolor\": \"white\", \"minorgridcolor\": \"white\", \"startlinecolor\": \"#2a3f5f\"}, \"baxis\": {\"endlinecolor\": \"#2a3f5f\", \"gridcolor\": \"white\", \"linecolor\": \"white\", \"minorgridcolor\": \"white\", \"startlinecolor\": \"#2a3f5f\"}, \"type\": \"carpet\"}], \"choropleth\": [{\"colorbar\": {\"outlinewidth\": 0, \"ticks\": \"\"}, \"type\": \"choropleth\"}], \"contour\": [{\"colorbar\": {\"outlinewidth\": 0, \"ticks\": \"\"}, \"colorscale\": [[0.0, \"#0d0887\"], [0.1111111111111111, \"#46039f\"], [0.2222222222222222, \"#7201a8\"], [0.3333333333333333, \"#9c179e\"], [0.4444444444444444, \"#bd3786\"], [0.5555555555555556, \"#d8576b\"], [0.6666666666666666, \"#ed7953\"], [0.7777777777777778, \"#fb9f3a\"], [0.8888888888888888, \"#fdca26\"], [1.0, \"#f0f921\"]], \"type\": \"contour\"}], \"contourcarpet\": [{\"colorbar\": {\"outlinewidth\": 0, \"ticks\": \"\"}, \"type\": \"contourcarpet\"}], \"heatmap\": [{\"colorbar\": {\"outlinewidth\": 0, \"ticks\": \"\"}, \"colorscale\": [[0.0, \"#0d0887\"], [0.1111111111111111, \"#46039f\"], [0.2222222222222222, \"#7201a8\"], [0.3333333333333333, \"#9c179e\"], [0.4444444444444444, \"#bd3786\"], [0.5555555555555556, \"#d8576b\"], [0.6666666666666666, \"#ed7953\"], [0.7777777777777778, \"#fb9f3a\"], [0.8888888888888888, \"#fdca26\"], [1.0, \"#f0f921\"]], \"type\": \"heatmap\"}], \"heatmapgl\": [{\"colorbar\": {\"outlinewidth\": 0, \"ticks\": \"\"}, \"colorscale\": [[0.0, \"#0d0887\"], [0.1111111111111111, \"#46039f\"], [0.2222222222222222, \"#7201a8\"], [0.3333333333333333, \"#9c179e\"], [0.4444444444444444, \"#bd3786\"], [0.5555555555555556, \"#d8576b\"], [0.6666666666666666, \"#ed7953\"], [0.7777777777777778, \"#fb9f3a\"], [0.8888888888888888, \"#fdca26\"], [1.0, \"#f0f921\"]], \"type\": \"heatmapgl\"}], \"histogram\": [{\"marker\": {\"colorbar\": {\"outlinewidth\": 0, \"ticks\": \"\"}}, \"type\": \"histogram\"}], \"histogram2d\": [{\"colorbar\": {\"outlinewidth\": 0, \"ticks\": \"\"}, \"colorscale\": [[0.0, \"#0d0887\"], [0.1111111111111111, \"#46039f\"], [0.2222222222222222, \"#7201a8\"], [0.3333333333333333, \"#9c179e\"], [0.4444444444444444, \"#bd3786\"], [0.5555555555555556, \"#d8576b\"], [0.6666666666666666, \"#ed7953\"], [0.7777777777777778, \"#fb9f3a\"], [0.8888888888888888, \"#fdca26\"], [1.0, \"#f0f921\"]], \"type\": \"histogram2d\"}], \"histogram2dcontour\": [{\"colorbar\": {\"outlinewidth\": 0, \"ticks\": \"\"}, \"colorscale\": [[0.0, \"#0d0887\"], [0.1111111111111111, \"#46039f\"], [0.2222222222222222, \"#7201a8\"], [0.3333333333333333, \"#9c179e\"], [0.4444444444444444, \"#bd3786\"], [0.5555555555555556, \"#d8576b\"], [0.6666666666666666, \"#ed7953\"], [0.7777777777777778, \"#fb9f3a\"], [0.8888888888888888, \"#fdca26\"], [1.0, \"#f0f921\"]], \"type\": \"histogram2dcontour\"}], \"mesh3d\": [{\"colorbar\": {\"outlinewidth\": 0, \"ticks\": \"\"}, \"type\": \"mesh3d\"}], \"parcoords\": [{\"line\": {\"colorbar\": {\"outlinewidth\": 0, \"ticks\": \"\"}}, \"type\": \"parcoords\"}], \"scatter\": [{\"marker\": {\"colorbar\": {\"outlinewidth\": 0, \"ticks\": \"\"}}, \"type\": \"scatter\"}], \"scatter3d\": [{\"line\": {\"colorbar\": {\"outlinewidth\": 0, \"ticks\": \"\"}}, \"marker\": {\"colorbar\": {\"outlinewidth\": 0, \"ticks\": \"\"}}, \"type\": \"scatter3d\"}], \"scattercarpet\": [{\"marker\": {\"colorbar\": {\"outlinewidth\": 0, \"ticks\": \"\"}}, \"type\": \"scattercarpet\"}], \"scattergeo\": [{\"marker\": {\"colorbar\": {\"outlinewidth\": 0, \"ticks\": \"\"}}, \"type\": \"scattergeo\"}], \"scattergl\": [{\"marker\": {\"colorbar\": {\"outlinewidth\": 0, \"ticks\": \"\"}}, \"type\": \"scattergl\"}], \"scattermapbox\": [{\"marker\": {\"colorbar\": {\"outlinewidth\": 0, \"ticks\": \"\"}}, \"type\": \"scattermapbox\"}], \"scatterpolar\": [{\"marker\": {\"colorbar\": {\"outlinewidth\": 0, \"ticks\": \"\"}}, \"type\": \"scatterpolar\"}], \"scatterpolargl\": [{\"marker\": {\"colorbar\": {\"outlinewidth\": 0, \"ticks\": \"\"}}, \"type\": \"scatterpolargl\"}], \"scatterternary\": [{\"marker\": {\"colorbar\": {\"outlinewidth\": 0, \"ticks\": \"\"}}, \"type\": \"scatterternary\"}], \"surface\": [{\"colorbar\": {\"outlinewidth\": 0, \"ticks\": \"\"}, \"colorscale\": [[0.0, \"#0d0887\"], [0.1111111111111111, \"#46039f\"], [0.2222222222222222, \"#7201a8\"], [0.3333333333333333, \"#9c179e\"], [0.4444444444444444, \"#bd3786\"], [0.5555555555555556, \"#d8576b\"], [0.6666666666666666, \"#ed7953\"], [0.7777777777777778, \"#fb9f3a\"], [0.8888888888888888, \"#fdca26\"], [1.0, \"#f0f921\"]], \"type\": \"surface\"}], \"table\": [{\"cells\": {\"fill\": {\"color\": \"#EBF0F8\"}, \"line\": {\"color\": \"white\"}}, \"header\": {\"fill\": {\"color\": \"#C8D4E3\"}, \"line\": {\"color\": \"white\"}}, \"type\": \"table\"}]}, \"layout\": {\"annotationdefaults\": {\"arrowcolor\": \"#2a3f5f\", \"arrowhead\": 0, \"arrowwidth\": 1}, \"colorscale\": {\"diverging\": [[0, \"#8e0152\"], [0.1, \"#c51b7d\"], [0.2, \"#de77ae\"], [0.3, \"#f1b6da\"], [0.4, \"#fde0ef\"], [0.5, \"#f7f7f7\"], [0.6, \"#e6f5d0\"], [0.7, \"#b8e186\"], [0.8, \"#7fbc41\"], [0.9, \"#4d9221\"], [1, \"#276419\"]], \"sequential\": [[0.0, \"#0d0887\"], [0.1111111111111111, \"#46039f\"], [0.2222222222222222, \"#7201a8\"], [0.3333333333333333, \"#9c179e\"], [0.4444444444444444, \"#bd3786\"], [0.5555555555555556, \"#d8576b\"], [0.6666666666666666, \"#ed7953\"], [0.7777777777777778, \"#fb9f3a\"], [0.8888888888888888, \"#fdca26\"], [1.0, \"#f0f921\"]], \"sequentialminus\": [[0.0, \"#0d0887\"], [0.1111111111111111, \"#46039f\"], [0.2222222222222222, \"#7201a8\"], [0.3333333333333333, \"#9c179e\"], [0.4444444444444444, \"#bd3786\"], [0.5555555555555556, \"#d8576b\"], [0.6666666666666666, \"#ed7953\"], [0.7777777777777778, \"#fb9f3a\"], [0.8888888888888888, \"#fdca26\"], [1.0, \"#f0f921\"]]}, \"colorway\": [\"#636efa\", \"#EF553B\", \"#00cc96\", \"#ab63fa\", \"#FFA15A\", \"#19d3f3\", \"#FF6692\", \"#B6E880\", \"#FF97FF\", \"#FECB52\"], \"font\": {\"color\": \"#2a3f5f\"}, \"geo\": {\"bgcolor\": \"white\", \"lakecolor\": \"white\", \"landcolor\": \"#E5ECF6\", \"showlakes\": true, \"showland\": true, \"subunitcolor\": \"white\"}, \"hoverlabel\": {\"align\": \"left\"}, \"hovermode\": \"closest\", \"mapbox\": {\"style\": \"light\"}, \"paper_bgcolor\": \"white\", \"plot_bgcolor\": \"#E5ECF6\", \"polar\": {\"angularaxis\": {\"gridcolor\": \"white\", \"linecolor\": \"white\", \"ticks\": \"\"}, \"bgcolor\": \"#E5ECF6\", \"radialaxis\": {\"gridcolor\": \"white\", \"linecolor\": \"white\", \"ticks\": \"\"}}, \"scene\": {\"xaxis\": {\"backgroundcolor\": \"#E5ECF6\", \"gridcolor\": \"white\", \"gridwidth\": 2, \"linecolor\": \"white\", \"showbackground\": true, \"ticks\": \"\", \"zerolinecolor\": \"white\"}, \"yaxis\": {\"backgroundcolor\": \"#E5ECF6\", \"gridcolor\": \"white\", \"gridwidth\": 2, \"linecolor\": \"white\", \"showbackground\": true, \"ticks\": \"\", \"zerolinecolor\": \"white\"}, \"zaxis\": {\"backgroundcolor\": \"#E5ECF6\", \"gridcolor\": \"white\", \"gridwidth\": 2, \"linecolor\": \"white\", \"showbackground\": true, \"ticks\": \"\", \"zerolinecolor\": \"white\"}}, \"shapedefaults\": {\"line\": {\"color\": \"#2a3f5f\"}}, \"ternary\": {\"aaxis\": {\"gridcolor\": \"white\", \"linecolor\": \"white\", \"ticks\": \"\"}, \"baxis\": {\"gridcolor\": \"white\", \"linecolor\": \"white\", \"ticks\": \"\"}, \"bgcolor\": \"#E5ECF6\", \"caxis\": {\"gridcolor\": \"white\", \"linecolor\": \"white\", \"ticks\": \"\"}}, \"title\": {\"x\": 0.05}, \"xaxis\": {\"automargin\": true, \"gridcolor\": \"white\", \"linecolor\": \"white\", \"ticks\": \"\", \"zerolinecolor\": \"white\", \"zerolinewidth\": 2}, \"yaxis\": {\"automargin\": true, \"gridcolor\": \"white\", \"linecolor\": \"white\", \"ticks\": \"\", \"zerolinecolor\": \"white\", \"zerolinewidth\": 2}}}},\n",
       "                        {\"responsive\": true}\n",
       "                    ).then(function(){\n",
       "                            \n",
       "var gd = document.getElementById('c4e6e5db-1789-49ed-83d9-872b02da4138');\n",
       "var x = new MutationObserver(function (mutations, observer) {{\n",
       "        var display = window.getComputedStyle(gd).display;\n",
       "        if (!display || display === 'none') {{\n",
       "            console.log([gd, 'removed!']);\n",
       "            Plotly.purge(gd);\n",
       "            observer.disconnect();\n",
       "        }}\n",
       "}});\n",
       "\n",
       "// Listen for the removal of the full notebook cells\n",
       "var notebookContainer = gd.closest('#notebook-container');\n",
       "if (notebookContainer) {{\n",
       "    x.observe(notebookContainer, {childList: true});\n",
       "}}\n",
       "\n",
       "// Listen for the clearing of the current output cell\n",
       "var outputEl = gd.closest('.output');\n",
       "if (outputEl) {{\n",
       "    x.observe(outputEl, {childList: true});\n",
       "}}\n",
       "\n",
       "                        })\n",
       "                };\n",
       "                });\n",
       "            </script>\n",
       "        </div>"
      ]
     },
     "metadata": {},
     "output_type": "display_data"
    }
   ],
   "source": [
    "#3d scatter for minority serving schools\n",
    "\n",
    "regions = ['New England', 'Mid East', 'Great Lakes', 'Plains', \n",
    "           'Southeast', 'Southwest', 'Rocky Mountains', 'Far West', 'Outlying Areas']\n",
    "\n",
    "fig = px.scatter_3d(df_minority, x=\"AVGFACSAL\", y=\"SAT_AVG_ALL\", z='CDR3', color='REGION',\n",
    "                   labels = {'CDR3':'3 yr default rate', 'SAT_AVG_ALL':'SAT Avg','AVGFACSAL':'Avg Faculty Salary',\n",
    "                            })\n",
    "fig.show()"
   ]
  },
  {
   "cell_type": "code",
   "execution_count": null,
   "metadata": {
    "colab": {
     "base_uri": "https://localhost:8080/",
     "height": 192
    },
    "colab_type": "code",
    "executionInfo": {
     "elapsed": 832,
     "status": "error",
     "timestamp": 1564701968729,
     "user": {
      "displayName": "Andrew Morrison",
      "photoUrl": "https://lh4.googleusercontent.com/-_lkTUhg-8SQ/AAAAAAAAAAI/AAAAAAAAABg/y-T98PhrCvg/s64/photo.jpg",
      "userId": "11988037290830881799"
     },
     "user_tz": 420
    },
    "id": "25uFcpcyK9-H",
    "outputId": "7dcaed87-864a-4fc3-9536-d2fd690a2036"
   },
   "outputs": [],
   "source": [
    "#blk ugds / faculty salary scatter plot\n",
    "fig = px.scatter(dfyo, x=\"UGDS_BLACK\", y=\"AVGFACSAL\", marginal_y=\"rug\", marginal_x=\"histogram\", color='REGION',\n",
    "                render_mode='webgl')\n",
    "fig.show()"
   ]
  },
  {
   "cell_type": "code",
   "execution_count": null,
   "metadata": {
    "colab": {},
    "colab_type": "code",
    "id": "NaFGV3ectwps"
   },
   "outputs": [],
   "source": [
    "data_years_black_students = [x['UGDS_BLACK'] for x in df_list]\n",
    "data_years_default = [x['CDR3'] for x in df_list]\n",
    "data_years_tuition = [x['TUITIONFEE_IN'] for x in df_list]"
   ]
  },
  {
   "cell_type": "code",
   "execution_count": null,
   "metadata": {
    "colab": {
     "base_uri": "https://localhost:8080/",
     "height": 35
    },
    "colab_type": "code",
    "executionInfo": {
     "elapsed": 1187,
     "status": "ok",
     "timestamp": 1564689260672,
     "user": {
      "displayName": "Andrew Morrison",
      "photoUrl": "https://lh4.googleusercontent.com/-_lkTUhg-8SQ/AAAAAAAAAAI/AAAAAAAAABg/y-T98PhrCvg/s64/photo.jpg",
      "userId": "11988037290830881799"
     },
     "user_tz": 420
    },
    "id": "pCeUS9tvubrq",
    "outputId": "e48b0cb3-5d28-4a12-a149-981fea5ad76d"
   },
   "outputs": [],
   "source": [
    "len(data_years_default)\n",
    "df['CDR3'].mean()\n",
    "df_list[21]['CDR3'].mean()"
   ]
  },
  {
   "cell_type": "code",
   "execution_count": null,
   "metadata": {
    "colab": {
     "base_uri": "https://localhost:8080/",
     "height": 1000
    },
    "colab_type": "code",
    "executionInfo": {
     "elapsed": 5878,
     "status": "ok",
     "timestamp": 1564694011307,
     "user": {
      "displayName": "Andrew Morrison",
      "photoUrl": "https://lh4.googleusercontent.com/-_lkTUhg-8SQ/AAAAAAAAAAI/AAAAAAAAABg/y-T98PhrCvg/s64/photo.jpg",
      "userId": "11988037290830881799"
     },
     "user_tz": 420
    },
    "id": "UmTWkbd-jtrf",
    "outputId": "7b083302-a63a-4648-8897-4a7e10c227c1"
   },
   "outputs": [],
   "source": [
    "sns.relplot(x='UGDS_BLACK', y='CDR3', size='COSTT4_A', kind='scatter', aspect=1,\n",
    "               col='LOCALE', col_wrap=4, data=df, hue='CONTROL', palette=['b','r','g'])"
   ]
  },
  {
   "cell_type": "code",
   "execution_count": null,
   "metadata": {
    "colab": {},
    "colab_type": "code",
    "id": "Ots4aFt_jtrk",
    "outputId": "c80b1e1d-4198-4569-d0c1-e0189458e30b"
   },
   "outputs": [],
   "source": [
    "sns.relplot(x='UGDS_WHITE', y='CDR3', size='TUITIONFEE_IN', kind='scatter', aspect=1,\n",
    "               col='HBCU', col_wrap=2, data=data)"
   ]
  },
  {
   "cell_type": "code",
   "execution_count": null,
   "metadata": {
    "colab": {},
    "colab_type": "code",
    "id": "zY3bAkKkjtro",
    "outputId": "e548b7da-0571-4f7d-cfa5-c727769e29e9"
   },
   "outputs": [],
   "source": [
    "sns.scatterplot(x=data.loc[(data['HBCU'] == 1) | (data['PBI'] == 1) |\n",
    "                (data['ANNHI'] == 1) | (data['AANAPII'] == 1) | data['TRIBAL'] == 0]\n",
    "                ['UGDS_WHITE'], \n",
    "                y=data['CDR3'])"
   ]
  },
  {
   "cell_type": "code",
   "execution_count": null,
   "metadata": {
    "colab": {},
    "colab_type": "code",
    "id": "Pzas14avjtrs"
   },
   "outputs": [],
   "source": [
    "group_hbcu = data_full.loc[data_full[\"HBCU\"] == 1]['CDR3']\n",
    "group_non = data_full.loc[data_full['HBCU'] == 0]['CDR3']"
   ]
  },
  {
   "cell_type": "markdown",
   "metadata": {
    "colab_type": "text",
    "id": "f1EZSlPvRFi6"
   },
   "source": [
    "##T-Test and F-Test"
   ]
  },
  {
   "cell_type": "code",
   "execution_count": null,
   "metadata": {
    "colab": {
     "base_uri": "https://localhost:8080/",
     "height": 35
    },
    "colab_type": "code",
    "executionInfo": {
     "elapsed": 267,
     "status": "ok",
     "timestamp": 1564603940365,
     "user": {
      "displayName": "Andrew Morrison",
      "photoUrl": "https://lh4.googleusercontent.com/-_lkTUhg-8SQ/AAAAAAAAAAI/AAAAAAAAABg/y-T98PhrCvg/s64/photo.jpg",
      "userId": "11988037290830881799"
     },
     "user_tz": 420
    },
    "id": "sWaR5NaTQ9Mu",
    "outputId": "15e4ca2c-f771-4930-93f2-e465268c3cff"
   },
   "outputs": [],
   "source": [
    "#F-Test\n",
    "stats.f_oneway(group_hbcu, group_non)"
   ]
  },
  {
   "cell_type": "code",
   "execution_count": null,
   "metadata": {
    "colab": {
     "base_uri": "https://localhost:8080/",
     "height": 226
    },
    "colab_type": "code",
    "executionInfo": {
     "elapsed": 259,
     "status": "ok",
     "timestamp": 1564606005695,
     "user": {
      "displayName": "Andrew Morrison",
      "photoUrl": "https://lh4.googleusercontent.com/-_lkTUhg-8SQ/AAAAAAAAAAI/AAAAAAAAABg/y-T98PhrCvg/s64/photo.jpg",
      "userId": "11988037290830881799"
     },
     "user_tz": 420
    },
    "id": "hCWef2ZXQ-MN",
    "outputId": "32831b96-bfe3-4c19-9552-55dd564953fc"
   },
   "outputs": [],
   "source": [
    "#Chi-square <---------- independent or dependent\n",
    "data.head()"
   ]
  },
  {
   "cell_type": "code",
   "execution_count": null,
   "metadata": {
    "colab": {},
    "colab_type": "code",
    "id": "gGmrIZrJyQBe"
   },
   "outputs": [],
   "source": []
  }
 ],
 "metadata": {
  "accelerator": "GPU",
  "celltoolbar": "Attachments",
  "colab": {
   "collapsed_sections": [],
   "machine_shape": "hm",
   "name": "college.ipynb",
   "provenance": [],
   "version": "0.3.2"
  },
  "kernelspec": {
   "display_name": "Python 3",
   "language": "python",
   "name": "python3"
  },
  "language_info": {
   "codemirror_mode": {
    "name": "ipython",
    "version": 3
   },
   "file_extension": ".py",
   "mimetype": "text/x-python",
   "name": "python",
   "nbconvert_exporter": "python",
   "pygments_lexer": "ipython3",
   "version": "3.7.3"
  }
 },
 "nbformat": 4,
 "nbformat_minor": 1
}
